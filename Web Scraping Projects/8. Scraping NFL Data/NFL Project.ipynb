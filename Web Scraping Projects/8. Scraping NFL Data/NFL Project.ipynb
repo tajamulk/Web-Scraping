{
 "cells": [
  {
   "cell_type": "markdown",
   "id": "62814079",
   "metadata": {},
   "source": [
    "## Scraping NFL Data"
   ]
  },
  {
   "cell_type": "code",
   "execution_count": 1,
   "id": "690c2e51",
   "metadata": {},
   "outputs": [],
   "source": [
    "import pandas as pd\n",
    "import numpy as np\n",
    "from bs4 import BeautifulSoup\n",
    "import requests"
   ]
  },
  {
   "cell_type": "code",
   "execution_count": 2,
   "id": "e826fc36",
   "metadata": {},
   "outputs": [],
   "source": [
    "url = 'https://www.nfl.com/standings/league/2022/REG'\n",
    "response = requests.get(url)"
   ]
  },
  {
   "cell_type": "code",
   "execution_count": 3,
   "id": "85760085",
   "metadata": {},
   "outputs": [
    {
     "name": "stdout",
     "output_type": "stream",
     "text": [
      "<Response [200]>\n"
     ]
    }
   ],
   "source": [
    "print(response)"
   ]
  },
  {
   "cell_type": "code",
   "execution_count": 4,
   "id": "74f165f8",
   "metadata": {},
   "outputs": [],
   "source": [
    "soup = BeautifulSoup(response.content, 'html.parser')"
   ]
  },
  {
   "cell_type": "markdown",
   "id": "e06e610e",
   "metadata": {},
   "source": [
    "### 1.Table"
   ]
  },
  {
   "cell_type": "code",
   "execution_count": 7,
   "id": "58dd8b7d",
   "metadata": {},
   "outputs": [
    {
     "name": "stdout",
     "output_type": "stream",
     "text": [
      "<div class=\"d3-o-table--horizontal-scroll\"><table class=\"d3-o-table d3-o-table--row-striping d3-o-table--detailed d3-o-standings--detailed d3-o-table--sortable {sortlist: [[4,1]], sortinitialorder: 'desc'}\" data-require=\"modules/tableSortable\" summary=\"Standings - Detailed View\"><caption class=\"d3-o-table__caption\">Standings - Detailed View</caption><thead><tr><th aria-label=\"Division name\" scope=\"col\">NFL Team</th><th aria-label=\"WINS\" scope=\"col\">W</th><th aria-label=\"LOSSES\" scope=\"col\">L</th><th aria-label=\"TIES\" scope=\"col\">T</th><th aria-label=\"PCT\" scope=\"col\">PCT</th><th aria-label=\"PF\" scope=\"col\">PF</th><th aria-label=\"PA\" scope=\"col\">PA</th><th aria-label=\"NET PTS\" scope=\"col\">Net Pts</th><th aria-label=\"HOME\" scope=\"col\">Home</th><th aria-label=\"ROAD\" scope=\"col\">Road</th><th aria-label=\"DIV\" scope=\"col\">Div</th><th aria-label=\"PCT\" scope=\"col\">Pct</th><th aria-label=\"CONF\" scope=\"col\">Conf</th><th aria-label=\"PCT\" scope=\"col\">Pct</th><th aria-label=\"NON-CONF\" scope=\"col\">Non-Conf</th><th aria-label=\"STRK\" scope=\"col\">Strk</th><th aria-label=\"LAST 5\" scope=\"col\">Last 5</th></tr></thead><tbody><tr><td scope=\"row\" tabindex=\"0\"><a aria-label=\"Go to Houston Texans info page.\" class=\"d3-o-club-info\" href=\"/teams/houston-texans/\"><div class=\"d3-o-club-logo\"><picture><!--[if IE 9]><video style=\"display:none\"><![endif]--><source media=\"(min-width:1024px)\" srcset=\"https://static.www.nfl.com/t_q-best/league/api/clubs/logos/HOU\"/><source media=\"(min-width:768px)\" srcset=\"https://static.www.nfl.com/t_q-best/league/api/clubs/logos/HOU\"/><source srcset=\"https://static.www.nfl.com/t_q-best/league/api/clubs/logos/HOU\"/><!--[if IE 9]></video><![endif]--><img class=\"img-responsive\" src=\"https://static.www.nfl.com/t_q-best/league/api/clubs/logos/HOU\"/></picture></div><div class=\"d3-o-club-fullname\">Houston Texans</div><div class=\"d3-o-club-shortname\">Texans</div></a></td><td>1</td><td>6</td><td>1</td><td>0.188</td><td>133</td><td>183</td><td>-50</td><td class=\"sorter-tie\">0 - 3 - 1</td><td class=\"sorter-tie\">1 - 3 - 0</td><td class=\"sorter-tie\">1 - 1 - 1</td><td>0.500</td><td class=\"sorter-tie\">1 - 4 - 1</td><td>0.250</td><td class=\"sorter-tie\">0 - 2 - 0</td><td class=\"sorter-strike\">3L</td><td class=\"sorter-tie\">1 - 4 - 0</td></tr><tr><td scope=\"row\" tabindex=\"0\"><a aria-label=\"Go to Carolina Panthers info page.\" class=\"d3-o-club-info\" href=\"/teams/carolina-panthers/\"><div class=\"d3-o-club-logo\"><picture><!--[if IE 9]><video style=\"display:none\"><![endif]--><source media=\"(min-width:1024px)\" srcset=\"https://static.www.nfl.com/t_q-best/league/api/clubs/logos/CAR\"/><source media=\"(min-width:768px)\" srcset=\"https://static.www.nfl.com/t_q-best/league/api/clubs/logos/CAR\"/><source srcset=\"https://static.www.nfl.com/t_q-best/league/api/clubs/logos/CAR\"/><!--[if IE 9]></video><![endif]--><img class=\"img-responsive\" src=\"https://static.www.nfl.com/t_q-best/league/api/clubs/logos/CAR\"/></picture></div><div class=\"d3-o-club-fullname\">Carolina Panthers</div><div class=\"d3-o-club-shortname\">Panthers</div></a></td><td>2</td><td>7</td><td>0</td><td>0.222</td><td>179</td><td>228</td><td>-49</td><td class=\"sorter-tie\">2 - 3 - 0</td><td class=\"sorter-tie\">0 - 4 - 0</td><td class=\"sorter-tie\">2 - 1 - 0</td><td>0.667</td><td class=\"sorter-tie\">2 - 5 - 0</td><td>0.286</td><td class=\"sorter-tie\">0 - 2 - 0</td><td class=\"sorter-strike\">2L</td><td class=\"sorter-tie\">1 - 4 - 0</td></tr><tr><td scope=\"row\" tabindex=\"0\"><a aria-label=\"Go to Detroit Lions info page.\" class=\"d3-o-club-info\" href=\"/teams/detroit-lions/\"><div class=\"d3-o-club-logo\"><picture><!--[if IE 9]><video style=\"display:none\"><![endif]--><source media=\"(min-width:1024px)\" srcset=\"https://static.www.nfl.com/t_q-best/league/api/clubs/logos/DET\"/><source media=\"(min-width:768px)\" srcset=\"https://static.www.nfl.com/t_q-best/league/api/clubs/logos/DET\"/><source srcset=\"https://static.www.nfl.com/t_q-best/league/api/clubs/logos/DET\"/><!--[if IE 9]></video><![endif]--><img class=\"img-responsive\" src=\"https://static.www.nfl.com/t_q-best/league/api/clubs/logos/DET\"/></picture></div><div class=\"d3-o-club-fullname\">Detroit Lions</div><div class=\"d3-o-club-shortname\">Lions</div></a></td><td>2</td><td>6</td><td>0</td><td>0.250</td><td>188</td><td>234</td><td>-46</td><td class=\"sorter-tie\">2 - 3 - 0</td><td class=\"sorter-tie\">0 - 3 - 0</td><td class=\"sorter-tie\">1 - 1 - 0</td><td>0.500</td><td class=\"sorter-tie\">2 - 4 - 0</td><td>0.333</td><td class=\"sorter-tie\">0 - 2 - 0</td><td class=\"sorter-strike\">1W</td><td class=\"sorter-tie\">1 - 4 - 0</td></tr><tr><td scope=\"row\" tabindex=\"0\"><a aria-label=\"Go to Las Vegas Raiders info page.\" class=\"d3-o-club-info\" href=\"/teams/las-vegas-raiders/\"><div class=\"d3-o-club-logo\"><picture><!--[if IE 9]><video style=\"display:none\"><![endif]--><source media=\"(min-width:1024px)\" srcset=\"https://static.www.nfl.com/t_q-best/league/api/clubs/logos/LV\"/><source media=\"(min-width:768px)\" srcset=\"https://static.www.nfl.com/t_q-best/league/api/clubs/logos/LV\"/><source srcset=\"https://static.www.nfl.com/t_q-best/league/api/clubs/logos/LV\"/><!--[if IE 9]></video><![endif]--><img class=\"img-responsive\" src=\"https://static.www.nfl.com/t_q-best/league/api/clubs/logos/LV\"/></picture></div><div class=\"d3-o-club-fullname\">Las Vegas Raiders</div><div class=\"d3-o-club-shortname\">Raiders</div></a></td><td>2</td><td>6</td><td>0</td><td>0.250</td><td>183</td><td>201</td><td>-18</td><td class=\"sorter-tie\">2 - 1 - 0</td><td class=\"sorter-tie\">0 - 5 - 0</td><td class=\"sorter-tie\">1 - 2 - 0</td><td>0.333</td><td class=\"sorter-tie\">2 - 4 - 0</td><td>0.333</td><td class=\"sorter-tie\">0 - 2 - 0</td><td class=\"sorter-strike\">2L</td><td class=\"sorter-tie\">2 - 3 - 0</td></tr><tr><td scope=\"row\" tabindex=\"0\"><a aria-label=\"Go to Pittsburgh Steelers info page.\" class=\"d3-o-club-info\" href=\"/teams/pittsburgh-steelers/\"><div class=\"d3-o-club-logo\"><picture><!--[if IE 9]><video style=\"display:none\"><![endif]--><source media=\"(min-width:1024px)\" srcset=\"https://static.www.nfl.com/t_q-best/league/api/clubs/logos/PIT\"/><source media=\"(min-width:768px)\" srcset=\"https://static.www.nfl.com/t_q-best/league/api/clubs/logos/PIT\"/><source srcset=\"https://static.www.nfl.com/t_q-best/league/api/clubs/logos/PIT\"/><!--[if IE 9]></video><![endif]--><img class=\"img-responsive\" src=\"https://static.www.nfl.com/t_q-best/league/api/clubs/logos/PIT\"/></picture></div><div class=\"d3-o-club-fullname\">Pittsburgh Steelers</div><div class=\"d3-o-club-shortname\">Steelers</div></a></td><td>2</td><td>6</td><td>0</td><td>0.250</td><td>120</td><td>197</td><td>-77</td><td class=\"sorter-tie\">1 - 2 - 0</td><td class=\"sorter-tie\">1 - 4 - 0</td><td class=\"sorter-tie\">1 - 1 - 0</td><td>0.500</td><td class=\"sorter-tie\">1 - 5 - 0</td><td>0.167</td><td class=\"sorter-tie\">1 - 1 - 0</td><td class=\"sorter-strike\">2L</td><td class=\"sorter-tie\">1 - 4 - 0</td></tr><tr><td scope=\"row\" tabindex=\"0\"><a aria-label=\"Go to Arizona Cardinals info page.\" class=\"d3-o-club-info\" href=\"/teams/arizona-cardinals/\"><div class=\"d3-o-club-logo\"><picture><!--[if IE 9]><video style=\"display:none\"><![endif]--><source media=\"(min-width:1024px)\" srcset=\"https://static.www.nfl.com/t_q-best/league/api/clubs/logos/ARI\"/><source media=\"(min-width:768px)\" srcset=\"https://static.www.nfl.com/t_q-best/league/api/clubs/logos/ARI\"/><source srcset=\"https://static.www.nfl.com/t_q-best/league/api/clubs/logos/ARI\"/><!--[if IE 9]></video><![endif]--><img class=\"img-responsive\" src=\"https://static.www.nfl.com/t_q-best/league/api/clubs/logos/ARI\"/></picture></div><div class=\"d3-o-club-fullname\">Arizona Cardinals</div><div class=\"d3-o-club-shortname\">Cardinals</div></a></td><td>3</td><td>6</td><td>0</td><td>0.333</td><td>203</td><td>241</td><td>-38</td><td class=\"sorter-tie\">1 - 4 - 0</td><td class=\"sorter-tie\">2 - 2 - 0</td><td class=\"sorter-tie\">0 - 3 - 0</td><td>0.000</td><td class=\"sorter-tie\">2 - 5 - 0</td><td>0.286</td><td class=\"sorter-tie\">1 - 1 - 0</td><td class=\"sorter-strike\">2L</td><td class=\"sorter-tie\">1 - 4 - 0</td></tr><tr><td scope=\"row\" tabindex=\"0\"><a aria-label=\"Go to Chicago Bears info page.\" class=\"d3-o-club-info\" href=\"/teams/chicago-bears/\"><div class=\"d3-o-club-logo\"><picture><!--[if IE 9]><video style=\"display:none\"><![endif]--><source media=\"(min-width:1024px)\" srcset=\"https://static.www.nfl.com/t_q-best/league/api/clubs/logos/CHI\"/><source media=\"(min-width:768px)\" srcset=\"https://static.www.nfl.com/t_q-best/league/api/clubs/logos/CHI\"/><source srcset=\"https://static.www.nfl.com/t_q-best/league/api/clubs/logos/CHI\"/><!--[if IE 9]></video><![endif]--><img class=\"img-responsive\" src=\"https://static.www.nfl.com/t_q-best/league/api/clubs/logos/CHI\"/></picture></div><div class=\"d3-o-club-fullname\">Chicago Bears</div><div class=\"d3-o-club-shortname\">Bears</div></a></td><td>3</td><td>6</td><td>0</td><td>0.333</td><td>187</td><td>216</td><td>-29</td><td class=\"sorter-tie\">2 - 2 - 0</td><td class=\"sorter-tie\">1 - 4 - 0</td><td class=\"sorter-tie\">0 - 2 - 0</td><td>0.000</td><td class=\"sorter-tie\">1 - 5 - 0</td><td>0.167</td><td class=\"sorter-tie\">2 - 1 - 0</td><td class=\"sorter-strike\">2L</td><td class=\"sorter-tie\">1 - 4 - 0</td></tr><tr><td scope=\"row\" tabindex=\"0\"><a aria-label=\"Go to Cleveland Browns info page.\" class=\"d3-o-club-info\" href=\"/teams/cleveland-browns/\"><div class=\"d3-o-club-logo\"><picture><!--[if IE 9]><video style=\"display:none\"><![endif]--><source media=\"(min-width:1024px)\" srcset=\"https://static.www.nfl.com/t_q-best/league/api/clubs/logos/CLE\"/><source media=\"(min-width:768px)\" srcset=\"https://static.www.nfl.com/t_q-best/league/api/clubs/logos/CLE\"/><source srcset=\"https://static.www.nfl.com/t_q-best/league/api/clubs/logos/CLE\"/><!--[if IE 9]></video><![endif]--><img class=\"img-responsive\" src=\"https://static.www.nfl.com/t_q-best/league/api/clubs/logos/CLE\"/></picture></div><div class=\"d3-o-club-fullname\">Cleveland Browns</div><div class=\"d3-o-club-shortname\">Browns</div></a></td><td>3</td><td>5</td><td>0</td><td>0.375</td><td>200</td><td>199</td><td>1</td><td class=\"sorter-tie\">2 - 3 - 0</td><td class=\"sorter-tie\">1 - 2 - 0</td><td class=\"sorter-tie\">2 - 1 - 0</td><td>0.667</td><td class=\"sorter-tie\">2 - 4 - 0</td><td>0.333</td><td class=\"sorter-tie\">1 - 1 - 0</td><td class=\"sorter-strike\">1W</td><td class=\"sorter-tie\">1 - 4 - 0</td></tr><tr><td scope=\"row\" tabindex=\"0\"><a aria-label=\"Go to Denver Broncos info page.\" class=\"d3-o-club-info\" href=\"/teams/denver-broncos/\"><div class=\"d3-o-club-logo\"><picture><!--[if IE 9]><video style=\"display:none\"><![endif]--><source media=\"(min-width:1024px)\" srcset=\"https://static.www.nfl.com/t_q-best/league/api/clubs/logos/DEN\"/><source media=\"(min-width:768px)\" srcset=\"https://static.www.nfl.com/t_q-best/league/api/clubs/logos/DEN\"/><source srcset=\"https://static.www.nfl.com/t_q-best/league/api/clubs/logos/DEN\"/><!--[if IE 9]></video><![endif]--><img class=\"img-responsive\" src=\"https://static.www.nfl.com/t_q-best/league/api/clubs/logos/DEN\"/></picture></div><div class=\"d3-o-club-fullname\">Denver Broncos</div><div class=\"d3-o-club-shortname\">Broncos</div></a></td><td>3</td><td>5</td><td>0</td><td>0.375</td><td>121</td><td>132</td><td>-11</td><td class=\"sorter-tie\">2 - 2 - 0</td><td class=\"sorter-tie\">1 - 3 - 0</td><td class=\"sorter-tie\">0 - 2 - 0</td><td>0.000</td><td class=\"sorter-tie\">2 - 4 - 0</td><td>0.333</td><td class=\"sorter-tie\">1 - 1 - 0</td><td class=\"sorter-strike\">1W</td><td class=\"sorter-tie\">1 - 4 - 0</td></tr><tr><td scope=\"row\" tabindex=\"0\"><a aria-label=\"Go to Green Bay Packers info page.\" class=\"d3-o-club-info\" href=\"/teams/green-bay-packers/\"><div class=\"d3-o-club-logo\"><picture><!--[if IE 9]><video style=\"display:none\"><![endif]--><source media=\"(min-width:1024px)\" srcset=\"https://static.www.nfl.com/t_q-best/league/api/clubs/logos/GB\"/><source media=\"(min-width:768px)\" srcset=\"https://static.www.nfl.com/t_q-best/league/api/clubs/logos/GB\"/><source srcset=\"https://static.www.nfl.com/t_q-best/league/api/clubs/logos/GB\"/><!--[if IE 9]></video><![endif]--><img class=\"img-responsive\" src=\"https://static.www.nfl.com/t_q-best/league/api/clubs/logos/GB\"/></picture></div><div class=\"d3-o-club-fullname\">Green Bay Packers</div><div class=\"d3-o-club-shortname\">Packers</div></a></td><td>3</td><td>6</td><td>0</td><td>0.333</td><td>154</td><td>188</td><td>-34</td><td class=\"sorter-tie\">2 - 2 - 0</td><td class=\"sorter-tie\">1 - 4 - 0</td><td class=\"sorter-tie\">1 - 2 - 0</td><td>0.333</td><td class=\"sorter-tie\">2 - 4 - 0</td><td>0.333</td><td class=\"sorter-tie\">1 - 2 - 0</td><td class=\"sorter-strike\">5L</td><td class=\"sorter-tie\">0 - 5 - 0</td></tr><tr><td scope=\"row\" tabindex=\"0\"><a aria-label=\"Go to Indianapolis Colts info page.\" class=\"d3-o-club-info\" href=\"/teams/indianapolis-colts/\"><div class=\"d3-o-club-logo\"><picture><!--[if IE 9]><video style=\"display:none\"><![endif]--><source media=\"(min-width:1024px)\" srcset=\"https://static.www.nfl.com/t_q-best/league/api/clubs/logos/IND\"/><source media=\"(min-width:768px)\" srcset=\"https://static.www.nfl.com/t_q-best/league/api/clubs/logos/IND\"/><source srcset=\"https://static.www.nfl.com/t_q-best/league/api/clubs/logos/IND\"/><!--[if IE 9]></video><![endif]--><img class=\"img-responsive\" src=\"https://static.www.nfl.com/t_q-best/league/api/clubs/logos/IND\"/></picture></div><div class=\"d3-o-club-fullname\">Indianapolis Colts</div><div class=\"d3-o-club-shortname\">Colts</div></a></td><td>3</td><td>5</td><td>1</td><td>0.389</td><td>132</td><td>183</td><td>-51</td><td class=\"sorter-tie\">2 - 2 - 0</td><td class=\"sorter-tie\">1 - 3 - 1</td><td class=\"sorter-tie\">1 - 3 - 1</td><td>0.300</td><td class=\"sorter-tie\">3 - 4 - 1</td><td>0.438</td><td class=\"sorter-tie\">0 - 1 - 0</td><td class=\"sorter-strike\">3L</td><td class=\"sorter-tie\">2 - 3 - 0</td></tr><tr><td scope=\"row\" tabindex=\"0\"><a aria-label=\"Go to Jacksonville Jaguars info page.\" class=\"d3-o-club-info\" href=\"/teams/jacksonville-jaguars/\"><div class=\"d3-o-club-logo\"><picture><!--[if IE 9]><video style=\"display:none\"><![endif]--><source media=\"(min-width:1024px)\" srcset=\"https://static.www.nfl.com/t_q-best/league/api/clubs/logos/JAX\"/><source media=\"(min-width:768px)\" srcset=\"https://static.www.nfl.com/t_q-best/league/api/clubs/logos/JAX\"/><source srcset=\"https://static.www.nfl.com/t_q-best/league/api/clubs/logos/JAX\"/><!--[if IE 9]></video><![endif]--><img class=\"img-responsive\" src=\"https://static.www.nfl.com/t_q-best/league/api/clubs/logos/JAX\"/></picture></div><div class=\"d3-o-club-fullname\">Jacksonville Jaguars</div><div class=\"d3-o-club-shortname\">Jaguars</div></a></td><td>3</td><td>6</td><td>0</td><td>0.333</td><td>199</td><td>178</td><td>21</td><td class=\"sorter-tie\">2 - 3 - 0</td><td class=\"sorter-tie\">1 - 3 - 0</td><td class=\"sorter-tie\">1 - 2 - 0</td><td>0.333</td><td class=\"sorter-tie\">3 - 3 - 0</td><td>0.500</td><td class=\"sorter-tie\">0 - 3 - 0</td><td class=\"sorter-strike\">1W</td><td class=\"sorter-tie\">1 - 4 - 0</td></tr><tr><td scope=\"row\" tabindex=\"0\"><a aria-label=\"Go to Los Angeles Rams info page.\" class=\"d3-o-club-info\" href=\"/teams/los-angeles-rams/\"><div class=\"d3-o-club-logo\"><picture><!--[if IE 9]><video style=\"display:none\"><![endif]--><source media=\"(min-width:1024px)\" srcset=\"https://static.www.nfl.com/t_q-best/league/api/clubs/logos/LA\"/><source media=\"(min-width:768px)\" srcset=\"https://static.www.nfl.com/t_q-best/league/api/clubs/logos/LA\"/><source srcset=\"https://static.www.nfl.com/t_q-best/league/api/clubs/logos/LA\"/><!--[if IE 9]></video><![endif]--><img class=\"img-responsive\" src=\"https://static.www.nfl.com/t_q-best/league/api/clubs/logos/LA\"/></picture></div><div class=\"d3-o-club-fullname\">Los Angeles Rams</div><div class=\"d3-o-club-shortname\">Rams</div></a></td><td>3</td><td>5</td><td>0</td><td>0.375</td><td>131</td><td>173</td><td>-42</td><td class=\"sorter-tie\">2 - 3 - 0</td><td class=\"sorter-tie\">1 - 2 - 0</td><td class=\"sorter-tie\">1 - 2 - 0</td><td>0.333</td><td class=\"sorter-tie\">3 - 4 - 0</td><td>0.429</td><td class=\"sorter-tie\">0 - 1 - 0</td><td class=\"sorter-strike\">2L</td><td class=\"sorter-tie\">1 - 4 - 0</td></tr><tr><td scope=\"row\" tabindex=\"0\"><a aria-label=\"Go to New Orleans Saints info page.\" class=\"d3-o-club-info\" href=\"/teams/new-orleans-saints/\"><div class=\"d3-o-club-logo\"><picture><!--[if IE 9]><video style=\"display:none\"><![endif]--><source media=\"(min-width:1024px)\" srcset=\"https://static.www.nfl.com/t_q-best/league/api/clubs/logos/NO\"/><source media=\"(min-width:768px)\" srcset=\"https://static.www.nfl.com/t_q-best/league/api/clubs/logos/NO\"/><source srcset=\"https://static.www.nfl.com/t_q-best/league/api/clubs/logos/NO\"/><!--[if IE 9]></video><![endif]--><img class=\"img-responsive\" src=\"https://static.www.nfl.com/t_q-best/league/api/clubs/logos/NO\"/></picture></div><div class=\"d3-o-club-fullname\">New Orleans Saints</div><div class=\"d3-o-club-shortname\">Saints</div></a></td><td>3</td><td>6</td><td>0</td><td>0.333</td><td>212</td><td>227</td><td>-15</td><td class=\"sorter-tie\">2 - 4 - 0</td><td class=\"sorter-tie\">1 - 2 - 0</td><td class=\"sorter-tie\">1 - 2 - 0</td><td>0.333</td><td class=\"sorter-tie\">2 - 4 - 0</td><td>0.333</td><td class=\"sorter-tie\">1 - 2 - 0</td><td class=\"sorter-strike\">1L</td><td class=\"sorter-tie\">2 - 3 - 0</td></tr><tr><td scope=\"row\" tabindex=\"0\"><a aria-label=\"Go to Atlanta Falcons info page.\" class=\"d3-o-club-info\" href=\"/teams/atlanta-falcons/\"><div class=\"d3-o-club-logo\"><picture><!--[if IE 9]><video style=\"display:none\"><![endif]--><source media=\"(min-width:1024px)\" srcset=\"https://static.www.nfl.com/t_q-best/league/api/clubs/logos/ATL\"/><source media=\"(min-width:768px)\" srcset=\"https://static.www.nfl.com/t_q-best/league/api/clubs/logos/ATL\"/><source srcset=\"https://static.www.nfl.com/t_q-best/league/api/clubs/logos/ATL\"/><!--[if IE 9]></video><![endif]--><img class=\"img-responsive\" src=\"https://static.www.nfl.com/t_q-best/league/api/clubs/logos/ATL\"/></picture></div><div class=\"d3-o-club-fullname\">Atlanta Falcons</div><div class=\"d3-o-club-shortname\">Falcons</div></a></td><td>4</td><td>5</td><td>0</td><td>0.444</td><td>217</td><td>225</td><td>-8</td><td class=\"sorter-tie\">3 - 2 - 0</td><td class=\"sorter-tie\">1 - 3 - 0</td><td class=\"sorter-tie\">1 - 2 - 0</td><td>0.333</td><td class=\"sorter-tie\">3 - 3 - 0</td><td>0.500</td><td class=\"sorter-tie\">1 - 2 - 0</td><td class=\"sorter-strike\">1L</td><td class=\"sorter-tie\">2 - 3 - 0</td></tr><tr><td scope=\"row\" tabindex=\"0\"><a aria-label=\"Go to San Francisco 49ers info page.\" class=\"d3-o-club-info\" href=\"/teams/san-francisco-49ers/\"><div class=\"d3-o-club-logo\"><picture><!--[if IE 9]><video style=\"display:none\"><![endif]--><source media=\"(min-width:1024px)\" srcset=\"https://static.www.nfl.com/t_q-best/league/api/clubs/logos/SF\"/><source media=\"(min-width:768px)\" srcset=\"https://static.www.nfl.com/t_q-best/league/api/clubs/logos/SF\"/><source srcset=\"https://static.www.nfl.com/t_q-best/league/api/clubs/logos/SF\"/><!--[if IE 9]></video><![endif]--><img class=\"img-responsive\" src=\"https://static.www.nfl.com/t_q-best/league/api/clubs/logos/SF\"/></picture></div><div class=\"d3-o-club-fullname\">San Francisco 49ers</div><div class=\"d3-o-club-shortname\">49ers</div></a></td><td>4</td><td>4</td><td>0</td><td>0.500</td><td>176</td><td>147</td><td>29</td><td class=\"sorter-tie\">2 - 1 - 0</td><td class=\"sorter-tie\">2 - 3 - 0</td><td class=\"sorter-tie\">3 - 0 - 0</td><td>1.000</td><td class=\"sorter-tie\">4 - 2 - 0</td><td>0.667</td><td class=\"sorter-tie\">0 - 2 - 0</td><td class=\"sorter-strike\">1W</td><td class=\"sorter-tie\">3 - 2 - 0</td></tr><tr><td scope=\"row\" tabindex=\"0\"><a aria-label=\"Go to Tampa Bay Buccaneers info page.\" class=\"d3-o-club-info\" href=\"/teams/tampa-bay-buccaneers/\"><div class=\"d3-o-club-logo\"><picture><!--[if IE 9]><video style=\"display:none\"><![endif]--><source media=\"(min-width:1024px)\" srcset=\"https://static.www.nfl.com/t_q-best/league/api/clubs/logos/TB\"/><source media=\"(min-width:768px)\" srcset=\"https://static.www.nfl.com/t_q-best/league/api/clubs/logos/TB\"/><source srcset=\"https://static.www.nfl.com/t_q-best/league/api/clubs/logos/TB\"/><!--[if IE 9]></video><![endif]--><img class=\"img-responsive\" src=\"https://static.www.nfl.com/t_q-best/league/api/clubs/logos/TB\"/></picture></div><div class=\"d3-o-club-fullname\">Tampa Bay Buccaneers</div><div class=\"d3-o-club-shortname\">Buccaneers</div></a></td><td>4</td><td>5</td><td>0</td><td>0.444</td><td>162</td><td>164</td><td>-2</td><td class=\"sorter-tie\">2 - 3 - 0</td><td class=\"sorter-tie\">2 - 2 - 0</td><td class=\"sorter-tie\">2 - 1 - 0</td><td>0.667</td><td class=\"sorter-tie\">4 - 2 - 0</td><td>0.667</td><td class=\"sorter-tie\">0 - 3 - 0</td><td class=\"sorter-strike\">1W</td><td class=\"sorter-tie\">2 - 3 - 0</td></tr><tr><td scope=\"row\" tabindex=\"0\"><a aria-label=\"Go to Washington Commanders info page.\" class=\"d3-o-club-info\" href=\"/teams/washington-commanders/\"><div class=\"d3-o-club-logo\"><picture><!--[if IE 9]><video style=\"display:none\"><![endif]--><source media=\"(min-width:1024px)\" srcset=\"https://static.www.nfl.com/t_q-best/league/api/clubs/logos/WAS\"/><source media=\"(min-width:768px)\" srcset=\"https://static.www.nfl.com/t_q-best/league/api/clubs/logos/WAS\"/><source srcset=\"https://static.www.nfl.com/t_q-best/league/api/clubs/logos/WAS\"/><!--[if IE 9]></video><![endif]--><img class=\"img-responsive\" src=\"https://static.www.nfl.com/t_q-best/league/api/clubs/logos/WAS\"/></picture></div><div class=\"d3-o-club-fullname\">Washington Commanders</div><div class=\"d3-o-club-shortname\">Commanders</div></a></td><td>4</td><td>5</td><td>0</td><td>0.444</td><td>159</td><td>192</td><td>-33</td><td class=\"sorter-tie\">2 - 3 - 0</td><td class=\"sorter-tie\">2 - 2 - 0</td><td class=\"sorter-tie\">0 - 2 - 0</td><td>0.000</td><td class=\"sorter-tie\">2 - 4 - 0</td><td>0.333</td><td class=\"sorter-tie\">2 - 1 - 0</td><td class=\"sorter-strike\">1L</td><td class=\"sorter-tie\">3 - 2 - 0</td></tr><tr><td scope=\"row\" tabindex=\"0\"><a aria-label=\"Go to Cincinnati Bengals info page.\" class=\"d3-o-club-info\" href=\"/teams/cincinnati-bengals/\"><div class=\"d3-o-club-logo\"><picture><!--[if IE 9]><video style=\"display:none\"><![endif]--><source media=\"(min-width:1024px)\" srcset=\"https://static.www.nfl.com/t_q-best/league/api/clubs/logos/CIN\"/><source media=\"(min-width:768px)\" srcset=\"https://static.www.nfl.com/t_q-best/league/api/clubs/logos/CIN\"/><source srcset=\"https://static.www.nfl.com/t_q-best/league/api/clubs/logos/CIN\"/><!--[if IE 9]></video><![endif]--><img class=\"img-responsive\" src=\"https://static.www.nfl.com/t_q-best/league/api/clubs/logos/CIN\"/></picture></div><div class=\"d3-o-club-fullname\">Cincinnati Bengals</div><div class=\"d3-o-club-shortname\">Bengals</div></a></td><td>5</td><td>4</td><td>0</td><td>0.556</td><td>228</td><td>185</td><td>43</td><td class=\"sorter-tie\">3 - 1 - 0</td><td class=\"sorter-tie\">2 - 3 - 0</td><td class=\"sorter-tie\">0 - 3 - 0</td><td>0.000</td><td class=\"sorter-tie\">2 - 3 - 0</td><td>0.400</td><td class=\"sorter-tie\">3 - 1 - 0</td><td class=\"sorter-strike\">1W</td><td class=\"sorter-tie\">3 - 2 - 0</td></tr><tr><td scope=\"row\" tabindex=\"0\"><a aria-label=\"Go to Los Angeles Chargers info page.\" class=\"d3-o-club-info\" href=\"/teams/los-angeles-chargers/\"><div class=\"d3-o-club-logo\"><picture><!--[if IE 9]><video style=\"display:none\"><![endif]--><source media=\"(min-width:1024px)\" srcset=\"https://static.www.nfl.com/t_q-best/league/api/clubs/logos/LAC\"/><source media=\"(min-width:768px)\" srcset=\"https://static.www.nfl.com/t_q-best/league/api/clubs/logos/LAC\"/><source srcset=\"https://static.www.nfl.com/t_q-best/league/api/clubs/logos/LAC\"/><!--[if IE 9]></video><![endif]--><img class=\"img-responsive\" src=\"https://static.www.nfl.com/t_q-best/league/api/clubs/logos/LAC\"/></picture></div><div class=\"d3-o-club-fullname\">Los Angeles Chargers</div><div class=\"d3-o-club-shortname\">Chargers</div></a></td><td>5</td><td>3</td><td>0</td><td>0.625</td><td>184</td><td>206</td><td>-22</td><td class=\"sorter-tie\">2 - 2 - 0</td><td class=\"sorter-tie\">3 - 1 - 0</td><td class=\"sorter-tie\">2 - 1 - 0</td><td>0.667</td><td class=\"sorter-tie\">4 - 2 - 0</td><td>0.667</td><td class=\"sorter-tie\">1 - 1 - 0</td><td class=\"sorter-strike\">1W</td><td class=\"sorter-tie\">4 - 1 - 0</td></tr><tr><td scope=\"row\" tabindex=\"0\"><a aria-label=\"Go to New England Patriots info page.\" class=\"d3-o-club-info\" href=\"/teams/new-england-patriots/\"><div class=\"d3-o-club-logo\"><picture><!--[if IE 9]><video style=\"display:none\"><![endif]--><source media=\"(min-width:1024px)\" srcset=\"https://static.www.nfl.com/t_q-best/league/api/clubs/logos/NE\"/><source media=\"(min-width:768px)\" srcset=\"https://static.www.nfl.com/t_q-best/league/api/clubs/logos/NE\"/><source srcset=\"https://static.www.nfl.com/t_q-best/league/api/clubs/logos/NE\"/><!--[if IE 9]></video><![endif]--><img class=\"img-responsive\" src=\"https://static.www.nfl.com/t_q-best/league/api/clubs/logos/NE\"/></picture></div><div class=\"d3-o-club-fullname\">New England Patriots</div><div class=\"d3-o-club-shortname\">Patriots</div></a></td><td>5</td><td>4</td><td>0</td><td>0.556</td><td>203</td><td>166</td><td>37</td><td class=\"sorter-tie\">2 - 2 - 0</td><td class=\"sorter-tie\">3 - 2 - 0</td><td class=\"sorter-tie\">1 - 1 - 0</td><td>0.500</td><td class=\"sorter-tie\">4 - 2 - 0</td><td>0.667</td><td class=\"sorter-tie\">1 - 2 - 0</td><td class=\"sorter-strike\">2W</td><td class=\"sorter-tie\">4 - 1 - 0</td></tr><tr><td scope=\"row\" tabindex=\"0\"><a aria-label=\"Go to Tennessee Titans info page.\" class=\"d3-o-club-info\" href=\"/teams/tennessee-titans/\"><div class=\"d3-o-club-logo\"><picture><!--[if IE 9]><video style=\"display:none\"><![endif]--><source media=\"(min-width:1024px)\" srcset=\"https://static.www.nfl.com/t_q-best/league/api/clubs/logos/TEN\"/><source media=\"(min-width:768px)\" srcset=\"https://static.www.nfl.com/t_q-best/league/api/clubs/logos/TEN\"/><source srcset=\"https://static.www.nfl.com/t_q-best/league/api/clubs/logos/TEN\"/><!--[if IE 9]></video><![endif]--><img class=\"img-responsive\" src=\"https://static.www.nfl.com/t_q-best/league/api/clubs/logos/TEN\"/></picture></div><div class=\"d3-o-club-fullname\">Tennessee Titans</div><div class=\"d3-o-club-shortname\">Titans</div></a></td><td>5</td><td>3</td><td>0</td><td>0.625</td><td>149</td><td>158</td><td>-9</td><td class=\"sorter-tie\">2 - 1 - 0</td><td class=\"sorter-tie\">3 - 2 - 0</td><td class=\"sorter-tie\">3 - 0 - 0</td><td>1.000</td><td class=\"sorter-tie\">4 - 2 - 0</td><td>0.667</td><td class=\"sorter-tie\">1 - 1 - 0</td><td class=\"sorter-strike\">1L</td><td class=\"sorter-tie\">4 - 1 - 0</td></tr><tr><td scope=\"row\" tabindex=\"0\"><a aria-label=\"Go to Baltimore Ravens info page.\" class=\"d3-o-club-info\" href=\"/teams/baltimore-ravens/\"><div class=\"d3-o-club-logo\"><picture><!--[if IE 9]><video style=\"display:none\"><![endif]--><source media=\"(min-width:1024px)\" srcset=\"https://static.www.nfl.com/t_q-best/league/api/clubs/logos/BAL\"/><source media=\"(min-width:768px)\" srcset=\"https://static.www.nfl.com/t_q-best/league/api/clubs/logos/BAL\"/><source srcset=\"https://static.www.nfl.com/t_q-best/league/api/clubs/logos/BAL\"/><!--[if IE 9]></video><![endif]--><img class=\"img-responsive\" src=\"https://static.www.nfl.com/t_q-best/league/api/clubs/logos/BAL\"/></picture></div><div class=\"d3-o-club-fullname\">Baltimore Ravens</div><div class=\"d3-o-club-shortname\">Ravens</div></a></td><td>6</td><td>3</td><td>0</td><td>0.667</td><td>235</td><td>196</td><td>39</td><td class=\"sorter-tie\">2 - 2 - 0</td><td class=\"sorter-tie\">4 - 1 - 0</td><td class=\"sorter-tie\">2 - 0 - 0</td><td>1.000</td><td class=\"sorter-tie\">4 - 2 - 0</td><td>0.667</td><td class=\"sorter-tie\">2 - 1 - 0</td><td class=\"sorter-strike\">3W</td><td class=\"sorter-tie\">4 - 1 - 0</td></tr><tr><td scope=\"row\" tabindex=\"0\"><a aria-label=\"Go to Buffalo Bills info page.\" class=\"d3-o-club-info\" href=\"/teams/buffalo-bills/\"><div class=\"d3-o-club-logo\"><picture><!--[if IE 9]><video style=\"display:none\"><![endif]--><source media=\"(min-width:1024px)\" srcset=\"https://static.www.nfl.com/t_q-best/league/api/clubs/logos/BUF\"/><source media=\"(min-width:768px)\" srcset=\"https://static.www.nfl.com/t_q-best/league/api/clubs/logos/BUF\"/><source srcset=\"https://static.www.nfl.com/t_q-best/league/api/clubs/logos/BUF\"/><!--[if IE 9]></video><![endif]--><img class=\"img-responsive\" src=\"https://static.www.nfl.com/t_q-best/league/api/clubs/logos/BUF\"/></picture></div><div class=\"d3-o-club-fullname\">Buffalo Bills</div><div class=\"d3-o-club-shortname\">Bills</div></a></td><td>6</td><td>2</td><td>0</td><td>0.750</td><td>220</td><td>118</td><td>102</td><td class=\"sorter-tie\">3 - 0 - 0</td><td class=\"sorter-tie\">3 - 2 - 0</td><td class=\"sorter-tie\">0 - 2 - 0</td><td>0.000</td><td class=\"sorter-tie\">4 - 2 - 0</td><td>0.667</td><td class=\"sorter-tie\">2 - 0 - 0</td><td class=\"sorter-strike\">1L</td><td class=\"sorter-tie\">4 - 1 - 0</td></tr><tr><td scope=\"row\" tabindex=\"0\"><a aria-label=\"Go to Dallas Cowboys info page.\" class=\"d3-o-club-info\" href=\"/teams/dallas-cowboys/\"><div class=\"d3-o-club-logo\"><picture><!--[if IE 9]><video style=\"display:none\"><![endif]--><source media=\"(min-width:1024px)\" srcset=\"https://static.www.nfl.com/t_q-best/league/api/clubs/logos/DAL\"/><source media=\"(min-width:768px)\" srcset=\"https://static.www.nfl.com/t_q-best/league/api/clubs/logos/DAL\"/><source srcset=\"https://static.www.nfl.com/t_q-best/league/api/clubs/logos/DAL\"/><!--[if IE 9]></video><![endif]--><img class=\"img-responsive\" src=\"https://static.www.nfl.com/t_q-best/league/api/clubs/logos/DAL\"/></picture></div><div class=\"d3-o-club-fullname\">Dallas Cowboys</div><div class=\"d3-o-club-shortname\">Cowboys</div></a></td><td>6</td><td>2</td><td>0</td><td>0.750</td><td>183</td><td>133</td><td>50</td><td class=\"sorter-tie\">4 - 1 - 0</td><td class=\"sorter-tie\">2 - 1 - 0</td><td class=\"sorter-tie\">2 - 1 - 0</td><td>0.667</td><td class=\"sorter-tie\">5 - 2 - 0</td><td>0.714</td><td class=\"sorter-tie\">1 - 0 - 0</td><td class=\"sorter-strike\">2W</td><td class=\"sorter-tie\">4 - 1 - 0</td></tr><tr><td scope=\"row\" tabindex=\"0\"><a aria-label=\"Go to Kansas City Chiefs info page.\" class=\"d3-o-club-info\" href=\"/teams/kansas-city-chiefs/\"><div class=\"d3-o-club-logo\"><picture><!--[if IE 9]><video style=\"display:none\"><![endif]--><source media=\"(min-width:1024px)\" srcset=\"https://static.www.nfl.com/t_q-best/league/api/clubs/logos/KC\"/><source media=\"(min-width:768px)\" srcset=\"https://static.www.nfl.com/t_q-best/league/api/clubs/logos/KC\"/><source srcset=\"https://static.www.nfl.com/t_q-best/league/api/clubs/logos/KC\"/><!--[if IE 9]></video><![endif]--><img class=\"img-responsive\" src=\"https://static.www.nfl.com/t_q-best/league/api/clubs/logos/KC\"/></picture></div><div class=\"d3-o-club-fullname\">Kansas City Chiefs</div><div class=\"d3-o-club-shortname\">Chiefs</div></a></td><td>6</td><td>2</td><td>0</td><td>0.750</td><td>243</td><td>189</td><td>54</td><td class=\"sorter-tie\">3 - 1 - 0</td><td class=\"sorter-tie\">3 - 1 - 0</td><td class=\"sorter-tie\">2 - 0 - 0</td><td>1.000</td><td class=\"sorter-tie\">3 - 2 - 0</td><td>0.600</td><td class=\"sorter-tie\">3 - 0 - 0</td><td class=\"sorter-strike\">2W</td><td class=\"sorter-tie\">4 - 1 - 0</td></tr><tr><td scope=\"row\" tabindex=\"0\"><a aria-label=\"Go to Miami Dolphins info page.\" class=\"d3-o-club-info\" href=\"/teams/miami-dolphins/\"><div class=\"d3-o-club-logo\"><picture><!--[if IE 9]><video style=\"display:none\"><![endif]--><source media=\"(min-width:1024px)\" srcset=\"https://static.www.nfl.com/t_q-best/league/api/clubs/logos/MIA\"/><source media=\"(min-width:768px)\" srcset=\"https://static.www.nfl.com/t_q-best/league/api/clubs/logos/MIA\"/><source srcset=\"https://static.www.nfl.com/t_q-best/league/api/clubs/logos/MIA\"/><!--[if IE 9]></video><![endif]--><img class=\"img-responsive\" src=\"https://static.www.nfl.com/t_q-best/league/api/clubs/logos/MIA\"/></picture></div><div class=\"d3-o-club-fullname\">Miami Dolphins</div><div class=\"d3-o-club-shortname\">Dolphins</div></a></td><td>6</td><td>3</td><td>0</td><td>0.667</td><td>213</td><td>224</td><td>-11</td><td class=\"sorter-tie\">3 - 1 - 0</td><td class=\"sorter-tie\">3 - 2 - 0</td><td class=\"sorter-tie\">2 - 1 - 0</td><td>0.667</td><td class=\"sorter-tie\">4 - 2 - 0</td><td>0.667</td><td class=\"sorter-tie\">2 - 1 - 0</td><td class=\"sorter-strike\">3W</td><td class=\"sorter-tie\">3 - 2 - 0</td></tr><tr><td scope=\"row\" tabindex=\"0\"><a aria-label=\"Go to New York Giants info page.\" class=\"d3-o-club-info\" href=\"/teams/new-york-giants/\"><div class=\"d3-o-club-logo\"><picture><!--[if IE 9]><video style=\"display:none\"><![endif]--><source media=\"(min-width:1024px)\" srcset=\"https://static.www.nfl.com/t_q-best/league/api/clubs/logos/NYG\"/><source media=\"(min-width:768px)\" srcset=\"https://static.www.nfl.com/t_q-best/league/api/clubs/logos/NYG\"/><source srcset=\"https://static.www.nfl.com/t_q-best/league/api/clubs/logos/NYG\"/><!--[if IE 9]></video><![endif]--><img class=\"img-responsive\" src=\"https://static.www.nfl.com/t_q-best/league/api/clubs/logos/NYG\"/></picture></div><div class=\"d3-o-club-fullname\">New York Giants</div><div class=\"d3-o-club-shortname\">Giants</div></a></td><td>6</td><td>2</td><td>0</td><td>0.750</td><td>163</td><td>157</td><td>6</td><td class=\"sorter-tie\">3 - 1 - 0</td><td class=\"sorter-tie\">3 - 1 - 0</td><td class=\"sorter-tie\">0 - 1 - 0</td><td>0.000</td><td class=\"sorter-tie\">3 - 2 - 0</td><td>0.600</td><td class=\"sorter-tie\">3 - 0 - 0</td><td class=\"sorter-strike\">1L</td><td class=\"sorter-tie\">4 - 1 - 0</td></tr><tr><td scope=\"row\" tabindex=\"0\"><a aria-label=\"Go to New York Jets info page.\" class=\"d3-o-club-info\" href=\"/teams/new-york-jets/\"><div class=\"d3-o-club-logo\"><picture><!--[if IE 9]><video style=\"display:none\"><![endif]--><source media=\"(min-width:1024px)\" srcset=\"https://static.www.nfl.com/t_q-best/league/api/clubs/logos/NYJ\"/><source media=\"(min-width:768px)\" srcset=\"https://static.www.nfl.com/t_q-best/league/api/clubs/logos/NYJ\"/><source srcset=\"https://static.www.nfl.com/t_q-best/league/api/clubs/logos/NYJ\"/><!--[if IE 9]></video><![endif]--><img class=\"img-responsive\" src=\"https://static.www.nfl.com/t_q-best/league/api/clubs/logos/NYJ\"/></picture></div><div class=\"d3-o-club-fullname\">New York Jets</div><div class=\"d3-o-club-shortname\">Jets</div></a></td><td>6</td><td>3</td><td>0</td><td>0.667</td><td>196</td><td>176</td><td>20</td><td class=\"sorter-tie\">2 - 3 - 0</td><td class=\"sorter-tie\">4 - 0 - 0</td><td class=\"sorter-tie\">2 - 1 - 0</td><td>0.667</td><td class=\"sorter-tie\">5 - 3 - 0</td><td>0.625</td><td class=\"sorter-tie\">1 - 0 - 0</td><td class=\"sorter-strike\">1W</td><td class=\"sorter-tie\">4 - 1 - 0</td></tr><tr><td scope=\"row\" tabindex=\"0\"><a aria-label=\"Go to Seattle Seahawks info page.\" class=\"d3-o-club-info\" href=\"/teams/seattle-seahawks/\"><div class=\"d3-o-club-logo\"><picture><!--[if IE 9]><video style=\"display:none\"><![endif]--><source media=\"(min-width:1024px)\" srcset=\"https://static.www.nfl.com/t_q-best/league/api/clubs/logos/SEA\"/><source media=\"(min-width:768px)\" srcset=\"https://static.www.nfl.com/t_q-best/league/api/clubs/logos/SEA\"/><source srcset=\"https://static.www.nfl.com/t_q-best/league/api/clubs/logos/SEA\"/><!--[if IE 9]></video><![endif]--><img class=\"img-responsive\" src=\"https://static.www.nfl.com/t_q-best/league/api/clubs/logos/SEA\"/></picture></div><div class=\"d3-o-club-fullname\">Seattle Seahawks</div><div class=\"d3-o-club-shortname\">Seahawks</div></a></td><td>6</td><td>3</td><td>0</td><td>0.667</td><td>241</td><td>220</td><td>21</td><td class=\"sorter-tie\">3 - 1 - 0</td><td class=\"sorter-tie\">3 - 2 - 0</td><td class=\"sorter-tie\">2 - 1 - 0</td><td>0.667</td><td class=\"sorter-tie\">4 - 3 - 0</td><td>0.571</td><td class=\"sorter-tie\">2 - 0 - 0</td><td class=\"sorter-strike\">4W</td><td class=\"sorter-tie\">4 - 1 - 0</td></tr><tr><td scope=\"row\" tabindex=\"0\"><a aria-label=\"Go to Minnesota Vikings info page.\" class=\"d3-o-club-info\" href=\"/teams/minnesota-vikings/\"><div class=\"d3-o-club-logo\"><picture><!--[if IE 9]><video style=\"display:none\"><![endif]--><source media=\"(min-width:1024px)\" srcset=\"https://static.www.nfl.com/t_q-best/league/api/clubs/logos/MIN\"/><source media=\"(min-width:768px)\" srcset=\"https://static.www.nfl.com/t_q-best/league/api/clubs/logos/MIN\"/><source srcset=\"https://static.www.nfl.com/t_q-best/league/api/clubs/logos/MIN\"/><!--[if IE 9]></video><![endif]--><img class=\"img-responsive\" src=\"https://static.www.nfl.com/t_q-best/league/api/clubs/logos/MIN\"/></picture></div><div class=\"d3-o-club-fullname\">Minnesota Vikings</div><div class=\"d3-o-club-shortname\">Vikings</div></a></td><td>7</td><td>1</td><td>0</td><td>0.875</td><td>193</td><td>161</td><td>32</td><td class=\"sorter-tie\">4 - 0 - 0</td><td class=\"sorter-tie\">3 - 1 - 0</td><td class=\"sorter-tie\">3 - 0 - 0</td><td>1.000</td><td class=\"sorter-tie\">6 - 1 - 0</td><td>0.857</td><td class=\"sorter-tie\">1 - 0 - 0</td><td class=\"sorter-strike\">6W</td><td class=\"sorter-tie\">5 - 0 - 0</td></tr><tr><td scope=\"row\" tabindex=\"0\"><a aria-label=\"Go to Philadelphia Eagles info page.\" class=\"d3-o-club-info\" href=\"/teams/philadelphia-eagles/\"><div class=\"d3-o-club-logo\"><picture><!--[if IE 9]><video style=\"display:none\"><![endif]--><source media=\"(min-width:1024px)\" srcset=\"https://static.www.nfl.com/t_q-best/league/api/clubs/logos/PHI\"/><source media=\"(min-width:768px)\" srcset=\"https://static.www.nfl.com/t_q-best/league/api/clubs/logos/PHI\"/><source srcset=\"https://static.www.nfl.com/t_q-best/league/api/clubs/logos/PHI\"/><!--[if IE 9]></video><![endif]--><img class=\"img-responsive\" src=\"https://static.www.nfl.com/t_q-best/league/api/clubs/logos/PHI\"/></picture></div><div class=\"d3-o-club-fullname\">Philadelphia Eagles</div><div class=\"d3-o-club-shortname\">Eagles</div></a></td><td>8</td><td>0</td><td>0</td><td>1.000</td><td>225</td><td>135</td><td>90</td><td class=\"sorter-tie\">4 - 0 - 0</td><td class=\"sorter-tie\">4 - 0 - 0</td><td class=\"sorter-tie\">2 - 0 - 0</td><td>1.000</td><td class=\"sorter-tie\">5 - 0 - 0</td><td>1.000</td><td class=\"sorter-tie\">3 - 0 - 0</td><td class=\"sorter-strike\">8W</td><td class=\"sorter-tie\">5 - 0 - 0</td></tr></tbody></table></div>\n"
     ]
    }
   ],
   "source": [
    "table = soup.find(class_ = 'd3-o-table--horizontal-scroll')\n",
    "print(table)"
   ]
  },
  {
   "cell_type": "markdown",
   "id": "446fa45b",
   "metadata": {},
   "source": [
    "### 2.All TableHeaders"
   ]
  },
  {
   "cell_type": "code",
   "execution_count": 12,
   "id": "3aab94eb",
   "metadata": {},
   "outputs": [
    {
     "data": {
      "text/plain": [
       "[<th aria-label=\"Division name\" scope=\"col\">NFL Team</th>,\n",
       " <th aria-label=\"WINS\" scope=\"col\">W</th>,\n",
       " <th aria-label=\"LOSSES\" scope=\"col\">L</th>,\n",
       " <th aria-label=\"TIES\" scope=\"col\">T</th>,\n",
       " <th aria-label=\"PCT\" scope=\"col\">PCT</th>,\n",
       " <th aria-label=\"PF\" scope=\"col\">PF</th>,\n",
       " <th aria-label=\"PA\" scope=\"col\">PA</th>,\n",
       " <th aria-label=\"NET PTS\" scope=\"col\">Net Pts</th>,\n",
       " <th aria-label=\"HOME\" scope=\"col\">Home</th>,\n",
       " <th aria-label=\"ROAD\" scope=\"col\">Road</th>,\n",
       " <th aria-label=\"DIV\" scope=\"col\">Div</th>,\n",
       " <th aria-label=\"PCT\" scope=\"col\">Pct</th>,\n",
       " <th aria-label=\"CONF\" scope=\"col\">Conf</th>,\n",
       " <th aria-label=\"PCT\" scope=\"col\">Pct</th>,\n",
       " <th aria-label=\"NON-CONF\" scope=\"col\">Non-Conf</th>,\n",
       " <th aria-label=\"STRK\" scope=\"col\">Strk</th>,\n",
       " <th aria-label=\"LAST 5\" scope=\"col\">Last 5</th>]"
      ]
     },
     "execution_count": 12,
     "metadata": {},
     "output_type": "execute_result"
    }
   ],
   "source": [
    "table_headers = table.findAll('th')\n",
    "table_headers"
   ]
  },
  {
   "cell_type": "markdown",
   "id": "ed212429",
   "metadata": {},
   "source": [
    "### 3.Create Empy DataFrame"
   ]
  },
  {
   "cell_type": "code",
   "execution_count": 17,
   "id": "8280ee24",
   "metadata": {},
   "outputs": [
    {
     "data": {
      "text/html": [
       "<div>\n",
       "<style scoped>\n",
       "    .dataframe tbody tr th:only-of-type {\n",
       "        vertical-align: middle;\n",
       "    }\n",
       "\n",
       "    .dataframe tbody tr th {\n",
       "        vertical-align: top;\n",
       "    }\n",
       "\n",
       "    .dataframe thead th {\n",
       "        text-align: right;\n",
       "    }\n",
       "</style>\n",
       "<table border=\"1\" class=\"dataframe\">\n",
       "  <thead>\n",
       "    <tr style=\"text-align: right;\">\n",
       "      <th></th>\n",
       "      <th>NFL Team</th>\n",
       "      <th>W</th>\n",
       "      <th>L</th>\n",
       "      <th>T</th>\n",
       "      <th>PCT</th>\n",
       "      <th>PF</th>\n",
       "      <th>PA</th>\n",
       "      <th>Net Pts</th>\n",
       "      <th>Home</th>\n",
       "      <th>Road</th>\n",
       "      <th>Div</th>\n",
       "      <th>Pct</th>\n",
       "      <th>Conf</th>\n",
       "      <th>Pct</th>\n",
       "      <th>Non-Conf</th>\n",
       "      <th>Strk</th>\n",
       "      <th>Last 5</th>\n",
       "    </tr>\n",
       "  </thead>\n",
       "  <tbody>\n",
       "  </tbody>\n",
       "</table>\n",
       "</div>"
      ],
      "text/plain": [
       "Empty DataFrame\n",
       "Columns: [NFL Team, W, L, T, PCT, PF, PA, Net Pts, Home, Road, Div, Pct, Conf, Pct, Non-Conf, Strk, Last 5]\n",
       "Index: []"
      ]
     },
     "execution_count": 17,
     "metadata": {},
     "output_type": "execute_result"
    }
   ],
   "source": [
    "new_columns = [th.text for th in table_headers]\n",
    "df = pd.DataFrame(columns = new_columns)\n",
    "df"
   ]
  },
  {
   "cell_type": "markdown",
   "id": "e675d698",
   "metadata": {},
   "source": [
    "### 4.All TableRows"
   ]
  },
  {
   "cell_type": "code",
   "execution_count": 9,
   "id": "8901325d",
   "metadata": {},
   "outputs": [
    {
     "data": {
      "text/plain": [
       "[<tr><td scope=\"row\" tabindex=\"0\"><a aria-label=\"Go to Houston Texans info page.\" class=\"d3-o-club-info\" href=\"/teams/houston-texans/\"><div class=\"d3-o-club-logo\"><picture><!--[if IE 9]><video style=\"display:none\"><![endif]--><source media=\"(min-width:1024px)\" srcset=\"https://static.www.nfl.com/t_q-best/league/api/clubs/logos/HOU\"/><source media=\"(min-width:768px)\" srcset=\"https://static.www.nfl.com/t_q-best/league/api/clubs/logos/HOU\"/><source srcset=\"https://static.www.nfl.com/t_q-best/league/api/clubs/logos/HOU\"/><!--[if IE 9]></video><![endif]--><img class=\"img-responsive\" src=\"https://static.www.nfl.com/t_q-best/league/api/clubs/logos/HOU\"/></picture></div><div class=\"d3-o-club-fullname\">Houston Texans</div><div class=\"d3-o-club-shortname\">Texans</div></a></td><td>1</td><td>6</td><td>1</td><td>0.188</td><td>133</td><td>183</td><td>-50</td><td class=\"sorter-tie\">0 - 3 - 1</td><td class=\"sorter-tie\">1 - 3 - 0</td><td class=\"sorter-tie\">1 - 1 - 1</td><td>0.500</td><td class=\"sorter-tie\">1 - 4 - 1</td><td>0.250</td><td class=\"sorter-tie\">0 - 2 - 0</td><td class=\"sorter-strike\">3L</td><td class=\"sorter-tie\">1 - 4 - 0</td></tr>,\n",
       " <tr><td scope=\"row\" tabindex=\"0\"><a aria-label=\"Go to Carolina Panthers info page.\" class=\"d3-o-club-info\" href=\"/teams/carolina-panthers/\"><div class=\"d3-o-club-logo\"><picture><!--[if IE 9]><video style=\"display:none\"><![endif]--><source media=\"(min-width:1024px)\" srcset=\"https://static.www.nfl.com/t_q-best/league/api/clubs/logos/CAR\"/><source media=\"(min-width:768px)\" srcset=\"https://static.www.nfl.com/t_q-best/league/api/clubs/logos/CAR\"/><source srcset=\"https://static.www.nfl.com/t_q-best/league/api/clubs/logos/CAR\"/><!--[if IE 9]></video><![endif]--><img class=\"img-responsive\" src=\"https://static.www.nfl.com/t_q-best/league/api/clubs/logos/CAR\"/></picture></div><div class=\"d3-o-club-fullname\">Carolina Panthers</div><div class=\"d3-o-club-shortname\">Panthers</div></a></td><td>2</td><td>7</td><td>0</td><td>0.222</td><td>179</td><td>228</td><td>-49</td><td class=\"sorter-tie\">2 - 3 - 0</td><td class=\"sorter-tie\">0 - 4 - 0</td><td class=\"sorter-tie\">2 - 1 - 0</td><td>0.667</td><td class=\"sorter-tie\">2 - 5 - 0</td><td>0.286</td><td class=\"sorter-tie\">0 - 2 - 0</td><td class=\"sorter-strike\">2L</td><td class=\"sorter-tie\">1 - 4 - 0</td></tr>,\n",
       " <tr><td scope=\"row\" tabindex=\"0\"><a aria-label=\"Go to Detroit Lions info page.\" class=\"d3-o-club-info\" href=\"/teams/detroit-lions/\"><div class=\"d3-o-club-logo\"><picture><!--[if IE 9]><video style=\"display:none\"><![endif]--><source media=\"(min-width:1024px)\" srcset=\"https://static.www.nfl.com/t_q-best/league/api/clubs/logos/DET\"/><source media=\"(min-width:768px)\" srcset=\"https://static.www.nfl.com/t_q-best/league/api/clubs/logos/DET\"/><source srcset=\"https://static.www.nfl.com/t_q-best/league/api/clubs/logos/DET\"/><!--[if IE 9]></video><![endif]--><img class=\"img-responsive\" src=\"https://static.www.nfl.com/t_q-best/league/api/clubs/logos/DET\"/></picture></div><div class=\"d3-o-club-fullname\">Detroit Lions</div><div class=\"d3-o-club-shortname\">Lions</div></a></td><td>2</td><td>6</td><td>0</td><td>0.250</td><td>188</td><td>234</td><td>-46</td><td class=\"sorter-tie\">2 - 3 - 0</td><td class=\"sorter-tie\">0 - 3 - 0</td><td class=\"sorter-tie\">1 - 1 - 0</td><td>0.500</td><td class=\"sorter-tie\">2 - 4 - 0</td><td>0.333</td><td class=\"sorter-tie\">0 - 2 - 0</td><td class=\"sorter-strike\">1W</td><td class=\"sorter-tie\">1 - 4 - 0</td></tr>,\n",
       " <tr><td scope=\"row\" tabindex=\"0\"><a aria-label=\"Go to Las Vegas Raiders info page.\" class=\"d3-o-club-info\" href=\"/teams/las-vegas-raiders/\"><div class=\"d3-o-club-logo\"><picture><!--[if IE 9]><video style=\"display:none\"><![endif]--><source media=\"(min-width:1024px)\" srcset=\"https://static.www.nfl.com/t_q-best/league/api/clubs/logos/LV\"/><source media=\"(min-width:768px)\" srcset=\"https://static.www.nfl.com/t_q-best/league/api/clubs/logos/LV\"/><source srcset=\"https://static.www.nfl.com/t_q-best/league/api/clubs/logos/LV\"/><!--[if IE 9]></video><![endif]--><img class=\"img-responsive\" src=\"https://static.www.nfl.com/t_q-best/league/api/clubs/logos/LV\"/></picture></div><div class=\"d3-o-club-fullname\">Las Vegas Raiders</div><div class=\"d3-o-club-shortname\">Raiders</div></a></td><td>2</td><td>6</td><td>0</td><td>0.250</td><td>183</td><td>201</td><td>-18</td><td class=\"sorter-tie\">2 - 1 - 0</td><td class=\"sorter-tie\">0 - 5 - 0</td><td class=\"sorter-tie\">1 - 2 - 0</td><td>0.333</td><td class=\"sorter-tie\">2 - 4 - 0</td><td>0.333</td><td class=\"sorter-tie\">0 - 2 - 0</td><td class=\"sorter-strike\">2L</td><td class=\"sorter-tie\">2 - 3 - 0</td></tr>,\n",
       " <tr><td scope=\"row\" tabindex=\"0\"><a aria-label=\"Go to Pittsburgh Steelers info page.\" class=\"d3-o-club-info\" href=\"/teams/pittsburgh-steelers/\"><div class=\"d3-o-club-logo\"><picture><!--[if IE 9]><video style=\"display:none\"><![endif]--><source media=\"(min-width:1024px)\" srcset=\"https://static.www.nfl.com/t_q-best/league/api/clubs/logos/PIT\"/><source media=\"(min-width:768px)\" srcset=\"https://static.www.nfl.com/t_q-best/league/api/clubs/logos/PIT\"/><source srcset=\"https://static.www.nfl.com/t_q-best/league/api/clubs/logos/PIT\"/><!--[if IE 9]></video><![endif]--><img class=\"img-responsive\" src=\"https://static.www.nfl.com/t_q-best/league/api/clubs/logos/PIT\"/></picture></div><div class=\"d3-o-club-fullname\">Pittsburgh Steelers</div><div class=\"d3-o-club-shortname\">Steelers</div></a></td><td>2</td><td>6</td><td>0</td><td>0.250</td><td>120</td><td>197</td><td>-77</td><td class=\"sorter-tie\">1 - 2 - 0</td><td class=\"sorter-tie\">1 - 4 - 0</td><td class=\"sorter-tie\">1 - 1 - 0</td><td>0.500</td><td class=\"sorter-tie\">1 - 5 - 0</td><td>0.167</td><td class=\"sorter-tie\">1 - 1 - 0</td><td class=\"sorter-strike\">2L</td><td class=\"sorter-tie\">1 - 4 - 0</td></tr>,\n",
       " <tr><td scope=\"row\" tabindex=\"0\"><a aria-label=\"Go to Arizona Cardinals info page.\" class=\"d3-o-club-info\" href=\"/teams/arizona-cardinals/\"><div class=\"d3-o-club-logo\"><picture><!--[if IE 9]><video style=\"display:none\"><![endif]--><source media=\"(min-width:1024px)\" srcset=\"https://static.www.nfl.com/t_q-best/league/api/clubs/logos/ARI\"/><source media=\"(min-width:768px)\" srcset=\"https://static.www.nfl.com/t_q-best/league/api/clubs/logos/ARI\"/><source srcset=\"https://static.www.nfl.com/t_q-best/league/api/clubs/logos/ARI\"/><!--[if IE 9]></video><![endif]--><img class=\"img-responsive\" src=\"https://static.www.nfl.com/t_q-best/league/api/clubs/logos/ARI\"/></picture></div><div class=\"d3-o-club-fullname\">Arizona Cardinals</div><div class=\"d3-o-club-shortname\">Cardinals</div></a></td><td>3</td><td>6</td><td>0</td><td>0.333</td><td>203</td><td>241</td><td>-38</td><td class=\"sorter-tie\">1 - 4 - 0</td><td class=\"sorter-tie\">2 - 2 - 0</td><td class=\"sorter-tie\">0 - 3 - 0</td><td>0.000</td><td class=\"sorter-tie\">2 - 5 - 0</td><td>0.286</td><td class=\"sorter-tie\">1 - 1 - 0</td><td class=\"sorter-strike\">2L</td><td class=\"sorter-tie\">1 - 4 - 0</td></tr>,\n",
       " <tr><td scope=\"row\" tabindex=\"0\"><a aria-label=\"Go to Chicago Bears info page.\" class=\"d3-o-club-info\" href=\"/teams/chicago-bears/\"><div class=\"d3-o-club-logo\"><picture><!--[if IE 9]><video style=\"display:none\"><![endif]--><source media=\"(min-width:1024px)\" srcset=\"https://static.www.nfl.com/t_q-best/league/api/clubs/logos/CHI\"/><source media=\"(min-width:768px)\" srcset=\"https://static.www.nfl.com/t_q-best/league/api/clubs/logos/CHI\"/><source srcset=\"https://static.www.nfl.com/t_q-best/league/api/clubs/logos/CHI\"/><!--[if IE 9]></video><![endif]--><img class=\"img-responsive\" src=\"https://static.www.nfl.com/t_q-best/league/api/clubs/logos/CHI\"/></picture></div><div class=\"d3-o-club-fullname\">Chicago Bears</div><div class=\"d3-o-club-shortname\">Bears</div></a></td><td>3</td><td>6</td><td>0</td><td>0.333</td><td>187</td><td>216</td><td>-29</td><td class=\"sorter-tie\">2 - 2 - 0</td><td class=\"sorter-tie\">1 - 4 - 0</td><td class=\"sorter-tie\">0 - 2 - 0</td><td>0.000</td><td class=\"sorter-tie\">1 - 5 - 0</td><td>0.167</td><td class=\"sorter-tie\">2 - 1 - 0</td><td class=\"sorter-strike\">2L</td><td class=\"sorter-tie\">1 - 4 - 0</td></tr>,\n",
       " <tr><td scope=\"row\" tabindex=\"0\"><a aria-label=\"Go to Cleveland Browns info page.\" class=\"d3-o-club-info\" href=\"/teams/cleveland-browns/\"><div class=\"d3-o-club-logo\"><picture><!--[if IE 9]><video style=\"display:none\"><![endif]--><source media=\"(min-width:1024px)\" srcset=\"https://static.www.nfl.com/t_q-best/league/api/clubs/logos/CLE\"/><source media=\"(min-width:768px)\" srcset=\"https://static.www.nfl.com/t_q-best/league/api/clubs/logos/CLE\"/><source srcset=\"https://static.www.nfl.com/t_q-best/league/api/clubs/logos/CLE\"/><!--[if IE 9]></video><![endif]--><img class=\"img-responsive\" src=\"https://static.www.nfl.com/t_q-best/league/api/clubs/logos/CLE\"/></picture></div><div class=\"d3-o-club-fullname\">Cleveland Browns</div><div class=\"d3-o-club-shortname\">Browns</div></a></td><td>3</td><td>5</td><td>0</td><td>0.375</td><td>200</td><td>199</td><td>1</td><td class=\"sorter-tie\">2 - 3 - 0</td><td class=\"sorter-tie\">1 - 2 - 0</td><td class=\"sorter-tie\">2 - 1 - 0</td><td>0.667</td><td class=\"sorter-tie\">2 - 4 - 0</td><td>0.333</td><td class=\"sorter-tie\">1 - 1 - 0</td><td class=\"sorter-strike\">1W</td><td class=\"sorter-tie\">1 - 4 - 0</td></tr>,\n",
       " <tr><td scope=\"row\" tabindex=\"0\"><a aria-label=\"Go to Denver Broncos info page.\" class=\"d3-o-club-info\" href=\"/teams/denver-broncos/\"><div class=\"d3-o-club-logo\"><picture><!--[if IE 9]><video style=\"display:none\"><![endif]--><source media=\"(min-width:1024px)\" srcset=\"https://static.www.nfl.com/t_q-best/league/api/clubs/logos/DEN\"/><source media=\"(min-width:768px)\" srcset=\"https://static.www.nfl.com/t_q-best/league/api/clubs/logos/DEN\"/><source srcset=\"https://static.www.nfl.com/t_q-best/league/api/clubs/logos/DEN\"/><!--[if IE 9]></video><![endif]--><img class=\"img-responsive\" src=\"https://static.www.nfl.com/t_q-best/league/api/clubs/logos/DEN\"/></picture></div><div class=\"d3-o-club-fullname\">Denver Broncos</div><div class=\"d3-o-club-shortname\">Broncos</div></a></td><td>3</td><td>5</td><td>0</td><td>0.375</td><td>121</td><td>132</td><td>-11</td><td class=\"sorter-tie\">2 - 2 - 0</td><td class=\"sorter-tie\">1 - 3 - 0</td><td class=\"sorter-tie\">0 - 2 - 0</td><td>0.000</td><td class=\"sorter-tie\">2 - 4 - 0</td><td>0.333</td><td class=\"sorter-tie\">1 - 1 - 0</td><td class=\"sorter-strike\">1W</td><td class=\"sorter-tie\">1 - 4 - 0</td></tr>,\n",
       " <tr><td scope=\"row\" tabindex=\"0\"><a aria-label=\"Go to Green Bay Packers info page.\" class=\"d3-o-club-info\" href=\"/teams/green-bay-packers/\"><div class=\"d3-o-club-logo\"><picture><!--[if IE 9]><video style=\"display:none\"><![endif]--><source media=\"(min-width:1024px)\" srcset=\"https://static.www.nfl.com/t_q-best/league/api/clubs/logos/GB\"/><source media=\"(min-width:768px)\" srcset=\"https://static.www.nfl.com/t_q-best/league/api/clubs/logos/GB\"/><source srcset=\"https://static.www.nfl.com/t_q-best/league/api/clubs/logos/GB\"/><!--[if IE 9]></video><![endif]--><img class=\"img-responsive\" src=\"https://static.www.nfl.com/t_q-best/league/api/clubs/logos/GB\"/></picture></div><div class=\"d3-o-club-fullname\">Green Bay Packers</div><div class=\"d3-o-club-shortname\">Packers</div></a></td><td>3</td><td>6</td><td>0</td><td>0.333</td><td>154</td><td>188</td><td>-34</td><td class=\"sorter-tie\">2 - 2 - 0</td><td class=\"sorter-tie\">1 - 4 - 0</td><td class=\"sorter-tie\">1 - 2 - 0</td><td>0.333</td><td class=\"sorter-tie\">2 - 4 - 0</td><td>0.333</td><td class=\"sorter-tie\">1 - 2 - 0</td><td class=\"sorter-strike\">5L</td><td class=\"sorter-tie\">0 - 5 - 0</td></tr>,\n",
       " <tr><td scope=\"row\" tabindex=\"0\"><a aria-label=\"Go to Indianapolis Colts info page.\" class=\"d3-o-club-info\" href=\"/teams/indianapolis-colts/\"><div class=\"d3-o-club-logo\"><picture><!--[if IE 9]><video style=\"display:none\"><![endif]--><source media=\"(min-width:1024px)\" srcset=\"https://static.www.nfl.com/t_q-best/league/api/clubs/logos/IND\"/><source media=\"(min-width:768px)\" srcset=\"https://static.www.nfl.com/t_q-best/league/api/clubs/logos/IND\"/><source srcset=\"https://static.www.nfl.com/t_q-best/league/api/clubs/logos/IND\"/><!--[if IE 9]></video><![endif]--><img class=\"img-responsive\" src=\"https://static.www.nfl.com/t_q-best/league/api/clubs/logos/IND\"/></picture></div><div class=\"d3-o-club-fullname\">Indianapolis Colts</div><div class=\"d3-o-club-shortname\">Colts</div></a></td><td>3</td><td>5</td><td>1</td><td>0.389</td><td>132</td><td>183</td><td>-51</td><td class=\"sorter-tie\">2 - 2 - 0</td><td class=\"sorter-tie\">1 - 3 - 1</td><td class=\"sorter-tie\">1 - 3 - 1</td><td>0.300</td><td class=\"sorter-tie\">3 - 4 - 1</td><td>0.438</td><td class=\"sorter-tie\">0 - 1 - 0</td><td class=\"sorter-strike\">3L</td><td class=\"sorter-tie\">2 - 3 - 0</td></tr>,\n",
       " <tr><td scope=\"row\" tabindex=\"0\"><a aria-label=\"Go to Jacksonville Jaguars info page.\" class=\"d3-o-club-info\" href=\"/teams/jacksonville-jaguars/\"><div class=\"d3-o-club-logo\"><picture><!--[if IE 9]><video style=\"display:none\"><![endif]--><source media=\"(min-width:1024px)\" srcset=\"https://static.www.nfl.com/t_q-best/league/api/clubs/logos/JAX\"/><source media=\"(min-width:768px)\" srcset=\"https://static.www.nfl.com/t_q-best/league/api/clubs/logos/JAX\"/><source srcset=\"https://static.www.nfl.com/t_q-best/league/api/clubs/logos/JAX\"/><!--[if IE 9]></video><![endif]--><img class=\"img-responsive\" src=\"https://static.www.nfl.com/t_q-best/league/api/clubs/logos/JAX\"/></picture></div><div class=\"d3-o-club-fullname\">Jacksonville Jaguars</div><div class=\"d3-o-club-shortname\">Jaguars</div></a></td><td>3</td><td>6</td><td>0</td><td>0.333</td><td>199</td><td>178</td><td>21</td><td class=\"sorter-tie\">2 - 3 - 0</td><td class=\"sorter-tie\">1 - 3 - 0</td><td class=\"sorter-tie\">1 - 2 - 0</td><td>0.333</td><td class=\"sorter-tie\">3 - 3 - 0</td><td>0.500</td><td class=\"sorter-tie\">0 - 3 - 0</td><td class=\"sorter-strike\">1W</td><td class=\"sorter-tie\">1 - 4 - 0</td></tr>,\n",
       " <tr><td scope=\"row\" tabindex=\"0\"><a aria-label=\"Go to Los Angeles Rams info page.\" class=\"d3-o-club-info\" href=\"/teams/los-angeles-rams/\"><div class=\"d3-o-club-logo\"><picture><!--[if IE 9]><video style=\"display:none\"><![endif]--><source media=\"(min-width:1024px)\" srcset=\"https://static.www.nfl.com/t_q-best/league/api/clubs/logos/LA\"/><source media=\"(min-width:768px)\" srcset=\"https://static.www.nfl.com/t_q-best/league/api/clubs/logos/LA\"/><source srcset=\"https://static.www.nfl.com/t_q-best/league/api/clubs/logos/LA\"/><!--[if IE 9]></video><![endif]--><img class=\"img-responsive\" src=\"https://static.www.nfl.com/t_q-best/league/api/clubs/logos/LA\"/></picture></div><div class=\"d3-o-club-fullname\">Los Angeles Rams</div><div class=\"d3-o-club-shortname\">Rams</div></a></td><td>3</td><td>5</td><td>0</td><td>0.375</td><td>131</td><td>173</td><td>-42</td><td class=\"sorter-tie\">2 - 3 - 0</td><td class=\"sorter-tie\">1 - 2 - 0</td><td class=\"sorter-tie\">1 - 2 - 0</td><td>0.333</td><td class=\"sorter-tie\">3 - 4 - 0</td><td>0.429</td><td class=\"sorter-tie\">0 - 1 - 0</td><td class=\"sorter-strike\">2L</td><td class=\"sorter-tie\">1 - 4 - 0</td></tr>,\n",
       " <tr><td scope=\"row\" tabindex=\"0\"><a aria-label=\"Go to New Orleans Saints info page.\" class=\"d3-o-club-info\" href=\"/teams/new-orleans-saints/\"><div class=\"d3-o-club-logo\"><picture><!--[if IE 9]><video style=\"display:none\"><![endif]--><source media=\"(min-width:1024px)\" srcset=\"https://static.www.nfl.com/t_q-best/league/api/clubs/logos/NO\"/><source media=\"(min-width:768px)\" srcset=\"https://static.www.nfl.com/t_q-best/league/api/clubs/logos/NO\"/><source srcset=\"https://static.www.nfl.com/t_q-best/league/api/clubs/logos/NO\"/><!--[if IE 9]></video><![endif]--><img class=\"img-responsive\" src=\"https://static.www.nfl.com/t_q-best/league/api/clubs/logos/NO\"/></picture></div><div class=\"d3-o-club-fullname\">New Orleans Saints</div><div class=\"d3-o-club-shortname\">Saints</div></a></td><td>3</td><td>6</td><td>0</td><td>0.333</td><td>212</td><td>227</td><td>-15</td><td class=\"sorter-tie\">2 - 4 - 0</td><td class=\"sorter-tie\">1 - 2 - 0</td><td class=\"sorter-tie\">1 - 2 - 0</td><td>0.333</td><td class=\"sorter-tie\">2 - 4 - 0</td><td>0.333</td><td class=\"sorter-tie\">1 - 2 - 0</td><td class=\"sorter-strike\">1L</td><td class=\"sorter-tie\">2 - 3 - 0</td></tr>,\n",
       " <tr><td scope=\"row\" tabindex=\"0\"><a aria-label=\"Go to Atlanta Falcons info page.\" class=\"d3-o-club-info\" href=\"/teams/atlanta-falcons/\"><div class=\"d3-o-club-logo\"><picture><!--[if IE 9]><video style=\"display:none\"><![endif]--><source media=\"(min-width:1024px)\" srcset=\"https://static.www.nfl.com/t_q-best/league/api/clubs/logos/ATL\"/><source media=\"(min-width:768px)\" srcset=\"https://static.www.nfl.com/t_q-best/league/api/clubs/logos/ATL\"/><source srcset=\"https://static.www.nfl.com/t_q-best/league/api/clubs/logos/ATL\"/><!--[if IE 9]></video><![endif]--><img class=\"img-responsive\" src=\"https://static.www.nfl.com/t_q-best/league/api/clubs/logos/ATL\"/></picture></div><div class=\"d3-o-club-fullname\">Atlanta Falcons</div><div class=\"d3-o-club-shortname\">Falcons</div></a></td><td>4</td><td>5</td><td>0</td><td>0.444</td><td>217</td><td>225</td><td>-8</td><td class=\"sorter-tie\">3 - 2 - 0</td><td class=\"sorter-tie\">1 - 3 - 0</td><td class=\"sorter-tie\">1 - 2 - 0</td><td>0.333</td><td class=\"sorter-tie\">3 - 3 - 0</td><td>0.500</td><td class=\"sorter-tie\">1 - 2 - 0</td><td class=\"sorter-strike\">1L</td><td class=\"sorter-tie\">2 - 3 - 0</td></tr>,\n",
       " <tr><td scope=\"row\" tabindex=\"0\"><a aria-label=\"Go to San Francisco 49ers info page.\" class=\"d3-o-club-info\" href=\"/teams/san-francisco-49ers/\"><div class=\"d3-o-club-logo\"><picture><!--[if IE 9]><video style=\"display:none\"><![endif]--><source media=\"(min-width:1024px)\" srcset=\"https://static.www.nfl.com/t_q-best/league/api/clubs/logos/SF\"/><source media=\"(min-width:768px)\" srcset=\"https://static.www.nfl.com/t_q-best/league/api/clubs/logos/SF\"/><source srcset=\"https://static.www.nfl.com/t_q-best/league/api/clubs/logos/SF\"/><!--[if IE 9]></video><![endif]--><img class=\"img-responsive\" src=\"https://static.www.nfl.com/t_q-best/league/api/clubs/logos/SF\"/></picture></div><div class=\"d3-o-club-fullname\">San Francisco 49ers</div><div class=\"d3-o-club-shortname\">49ers</div></a></td><td>4</td><td>4</td><td>0</td><td>0.500</td><td>176</td><td>147</td><td>29</td><td class=\"sorter-tie\">2 - 1 - 0</td><td class=\"sorter-tie\">2 - 3 - 0</td><td class=\"sorter-tie\">3 - 0 - 0</td><td>1.000</td><td class=\"sorter-tie\">4 - 2 - 0</td><td>0.667</td><td class=\"sorter-tie\">0 - 2 - 0</td><td class=\"sorter-strike\">1W</td><td class=\"sorter-tie\">3 - 2 - 0</td></tr>,\n",
       " <tr><td scope=\"row\" tabindex=\"0\"><a aria-label=\"Go to Tampa Bay Buccaneers info page.\" class=\"d3-o-club-info\" href=\"/teams/tampa-bay-buccaneers/\"><div class=\"d3-o-club-logo\"><picture><!--[if IE 9]><video style=\"display:none\"><![endif]--><source media=\"(min-width:1024px)\" srcset=\"https://static.www.nfl.com/t_q-best/league/api/clubs/logos/TB\"/><source media=\"(min-width:768px)\" srcset=\"https://static.www.nfl.com/t_q-best/league/api/clubs/logos/TB\"/><source srcset=\"https://static.www.nfl.com/t_q-best/league/api/clubs/logos/TB\"/><!--[if IE 9]></video><![endif]--><img class=\"img-responsive\" src=\"https://static.www.nfl.com/t_q-best/league/api/clubs/logos/TB\"/></picture></div><div class=\"d3-o-club-fullname\">Tampa Bay Buccaneers</div><div class=\"d3-o-club-shortname\">Buccaneers</div></a></td><td>4</td><td>5</td><td>0</td><td>0.444</td><td>162</td><td>164</td><td>-2</td><td class=\"sorter-tie\">2 - 3 - 0</td><td class=\"sorter-tie\">2 - 2 - 0</td><td class=\"sorter-tie\">2 - 1 - 0</td><td>0.667</td><td class=\"sorter-tie\">4 - 2 - 0</td><td>0.667</td><td class=\"sorter-tie\">0 - 3 - 0</td><td class=\"sorter-strike\">1W</td><td class=\"sorter-tie\">2 - 3 - 0</td></tr>,\n",
       " <tr><td scope=\"row\" tabindex=\"0\"><a aria-label=\"Go to Washington Commanders info page.\" class=\"d3-o-club-info\" href=\"/teams/washington-commanders/\"><div class=\"d3-o-club-logo\"><picture><!--[if IE 9]><video style=\"display:none\"><![endif]--><source media=\"(min-width:1024px)\" srcset=\"https://static.www.nfl.com/t_q-best/league/api/clubs/logos/WAS\"/><source media=\"(min-width:768px)\" srcset=\"https://static.www.nfl.com/t_q-best/league/api/clubs/logos/WAS\"/><source srcset=\"https://static.www.nfl.com/t_q-best/league/api/clubs/logos/WAS\"/><!--[if IE 9]></video><![endif]--><img class=\"img-responsive\" src=\"https://static.www.nfl.com/t_q-best/league/api/clubs/logos/WAS\"/></picture></div><div class=\"d3-o-club-fullname\">Washington Commanders</div><div class=\"d3-o-club-shortname\">Commanders</div></a></td><td>4</td><td>5</td><td>0</td><td>0.444</td><td>159</td><td>192</td><td>-33</td><td class=\"sorter-tie\">2 - 3 - 0</td><td class=\"sorter-tie\">2 - 2 - 0</td><td class=\"sorter-tie\">0 - 2 - 0</td><td>0.000</td><td class=\"sorter-tie\">2 - 4 - 0</td><td>0.333</td><td class=\"sorter-tie\">2 - 1 - 0</td><td class=\"sorter-strike\">1L</td><td class=\"sorter-tie\">3 - 2 - 0</td></tr>,\n",
       " <tr><td scope=\"row\" tabindex=\"0\"><a aria-label=\"Go to Cincinnati Bengals info page.\" class=\"d3-o-club-info\" href=\"/teams/cincinnati-bengals/\"><div class=\"d3-o-club-logo\"><picture><!--[if IE 9]><video style=\"display:none\"><![endif]--><source media=\"(min-width:1024px)\" srcset=\"https://static.www.nfl.com/t_q-best/league/api/clubs/logos/CIN\"/><source media=\"(min-width:768px)\" srcset=\"https://static.www.nfl.com/t_q-best/league/api/clubs/logos/CIN\"/><source srcset=\"https://static.www.nfl.com/t_q-best/league/api/clubs/logos/CIN\"/><!--[if IE 9]></video><![endif]--><img class=\"img-responsive\" src=\"https://static.www.nfl.com/t_q-best/league/api/clubs/logos/CIN\"/></picture></div><div class=\"d3-o-club-fullname\">Cincinnati Bengals</div><div class=\"d3-o-club-shortname\">Bengals</div></a></td><td>5</td><td>4</td><td>0</td><td>0.556</td><td>228</td><td>185</td><td>43</td><td class=\"sorter-tie\">3 - 1 - 0</td><td class=\"sorter-tie\">2 - 3 - 0</td><td class=\"sorter-tie\">0 - 3 - 0</td><td>0.000</td><td class=\"sorter-tie\">2 - 3 - 0</td><td>0.400</td><td class=\"sorter-tie\">3 - 1 - 0</td><td class=\"sorter-strike\">1W</td><td class=\"sorter-tie\">3 - 2 - 0</td></tr>,\n",
       " <tr><td scope=\"row\" tabindex=\"0\"><a aria-label=\"Go to Los Angeles Chargers info page.\" class=\"d3-o-club-info\" href=\"/teams/los-angeles-chargers/\"><div class=\"d3-o-club-logo\"><picture><!--[if IE 9]><video style=\"display:none\"><![endif]--><source media=\"(min-width:1024px)\" srcset=\"https://static.www.nfl.com/t_q-best/league/api/clubs/logos/LAC\"/><source media=\"(min-width:768px)\" srcset=\"https://static.www.nfl.com/t_q-best/league/api/clubs/logos/LAC\"/><source srcset=\"https://static.www.nfl.com/t_q-best/league/api/clubs/logos/LAC\"/><!--[if IE 9]></video><![endif]--><img class=\"img-responsive\" src=\"https://static.www.nfl.com/t_q-best/league/api/clubs/logos/LAC\"/></picture></div><div class=\"d3-o-club-fullname\">Los Angeles Chargers</div><div class=\"d3-o-club-shortname\">Chargers</div></a></td><td>5</td><td>3</td><td>0</td><td>0.625</td><td>184</td><td>206</td><td>-22</td><td class=\"sorter-tie\">2 - 2 - 0</td><td class=\"sorter-tie\">3 - 1 - 0</td><td class=\"sorter-tie\">2 - 1 - 0</td><td>0.667</td><td class=\"sorter-tie\">4 - 2 - 0</td><td>0.667</td><td class=\"sorter-tie\">1 - 1 - 0</td><td class=\"sorter-strike\">1W</td><td class=\"sorter-tie\">4 - 1 - 0</td></tr>,\n",
       " <tr><td scope=\"row\" tabindex=\"0\"><a aria-label=\"Go to New England Patriots info page.\" class=\"d3-o-club-info\" href=\"/teams/new-england-patriots/\"><div class=\"d3-o-club-logo\"><picture><!--[if IE 9]><video style=\"display:none\"><![endif]--><source media=\"(min-width:1024px)\" srcset=\"https://static.www.nfl.com/t_q-best/league/api/clubs/logos/NE\"/><source media=\"(min-width:768px)\" srcset=\"https://static.www.nfl.com/t_q-best/league/api/clubs/logos/NE\"/><source srcset=\"https://static.www.nfl.com/t_q-best/league/api/clubs/logos/NE\"/><!--[if IE 9]></video><![endif]--><img class=\"img-responsive\" src=\"https://static.www.nfl.com/t_q-best/league/api/clubs/logos/NE\"/></picture></div><div class=\"d3-o-club-fullname\">New England Patriots</div><div class=\"d3-o-club-shortname\">Patriots</div></a></td><td>5</td><td>4</td><td>0</td><td>0.556</td><td>203</td><td>166</td><td>37</td><td class=\"sorter-tie\">2 - 2 - 0</td><td class=\"sorter-tie\">3 - 2 - 0</td><td class=\"sorter-tie\">1 - 1 - 0</td><td>0.500</td><td class=\"sorter-tie\">4 - 2 - 0</td><td>0.667</td><td class=\"sorter-tie\">1 - 2 - 0</td><td class=\"sorter-strike\">2W</td><td class=\"sorter-tie\">4 - 1 - 0</td></tr>,\n",
       " <tr><td scope=\"row\" tabindex=\"0\"><a aria-label=\"Go to Tennessee Titans info page.\" class=\"d3-o-club-info\" href=\"/teams/tennessee-titans/\"><div class=\"d3-o-club-logo\"><picture><!--[if IE 9]><video style=\"display:none\"><![endif]--><source media=\"(min-width:1024px)\" srcset=\"https://static.www.nfl.com/t_q-best/league/api/clubs/logos/TEN\"/><source media=\"(min-width:768px)\" srcset=\"https://static.www.nfl.com/t_q-best/league/api/clubs/logos/TEN\"/><source srcset=\"https://static.www.nfl.com/t_q-best/league/api/clubs/logos/TEN\"/><!--[if IE 9]></video><![endif]--><img class=\"img-responsive\" src=\"https://static.www.nfl.com/t_q-best/league/api/clubs/logos/TEN\"/></picture></div><div class=\"d3-o-club-fullname\">Tennessee Titans</div><div class=\"d3-o-club-shortname\">Titans</div></a></td><td>5</td><td>3</td><td>0</td><td>0.625</td><td>149</td><td>158</td><td>-9</td><td class=\"sorter-tie\">2 - 1 - 0</td><td class=\"sorter-tie\">3 - 2 - 0</td><td class=\"sorter-tie\">3 - 0 - 0</td><td>1.000</td><td class=\"sorter-tie\">4 - 2 - 0</td><td>0.667</td><td class=\"sorter-tie\">1 - 1 - 0</td><td class=\"sorter-strike\">1L</td><td class=\"sorter-tie\">4 - 1 - 0</td></tr>,\n",
       " <tr><td scope=\"row\" tabindex=\"0\"><a aria-label=\"Go to Baltimore Ravens info page.\" class=\"d3-o-club-info\" href=\"/teams/baltimore-ravens/\"><div class=\"d3-o-club-logo\"><picture><!--[if IE 9]><video style=\"display:none\"><![endif]--><source media=\"(min-width:1024px)\" srcset=\"https://static.www.nfl.com/t_q-best/league/api/clubs/logos/BAL\"/><source media=\"(min-width:768px)\" srcset=\"https://static.www.nfl.com/t_q-best/league/api/clubs/logos/BAL\"/><source srcset=\"https://static.www.nfl.com/t_q-best/league/api/clubs/logos/BAL\"/><!--[if IE 9]></video><![endif]--><img class=\"img-responsive\" src=\"https://static.www.nfl.com/t_q-best/league/api/clubs/logos/BAL\"/></picture></div><div class=\"d3-o-club-fullname\">Baltimore Ravens</div><div class=\"d3-o-club-shortname\">Ravens</div></a></td><td>6</td><td>3</td><td>0</td><td>0.667</td><td>235</td><td>196</td><td>39</td><td class=\"sorter-tie\">2 - 2 - 0</td><td class=\"sorter-tie\">4 - 1 - 0</td><td class=\"sorter-tie\">2 - 0 - 0</td><td>1.000</td><td class=\"sorter-tie\">4 - 2 - 0</td><td>0.667</td><td class=\"sorter-tie\">2 - 1 - 0</td><td class=\"sorter-strike\">3W</td><td class=\"sorter-tie\">4 - 1 - 0</td></tr>,\n",
       " <tr><td scope=\"row\" tabindex=\"0\"><a aria-label=\"Go to Buffalo Bills info page.\" class=\"d3-o-club-info\" href=\"/teams/buffalo-bills/\"><div class=\"d3-o-club-logo\"><picture><!--[if IE 9]><video style=\"display:none\"><![endif]--><source media=\"(min-width:1024px)\" srcset=\"https://static.www.nfl.com/t_q-best/league/api/clubs/logos/BUF\"/><source media=\"(min-width:768px)\" srcset=\"https://static.www.nfl.com/t_q-best/league/api/clubs/logos/BUF\"/><source srcset=\"https://static.www.nfl.com/t_q-best/league/api/clubs/logos/BUF\"/><!--[if IE 9]></video><![endif]--><img class=\"img-responsive\" src=\"https://static.www.nfl.com/t_q-best/league/api/clubs/logos/BUF\"/></picture></div><div class=\"d3-o-club-fullname\">Buffalo Bills</div><div class=\"d3-o-club-shortname\">Bills</div></a></td><td>6</td><td>2</td><td>0</td><td>0.750</td><td>220</td><td>118</td><td>102</td><td class=\"sorter-tie\">3 - 0 - 0</td><td class=\"sorter-tie\">3 - 2 - 0</td><td class=\"sorter-tie\">0 - 2 - 0</td><td>0.000</td><td class=\"sorter-tie\">4 - 2 - 0</td><td>0.667</td><td class=\"sorter-tie\">2 - 0 - 0</td><td class=\"sorter-strike\">1L</td><td class=\"sorter-tie\">4 - 1 - 0</td></tr>,\n",
       " <tr><td scope=\"row\" tabindex=\"0\"><a aria-label=\"Go to Dallas Cowboys info page.\" class=\"d3-o-club-info\" href=\"/teams/dallas-cowboys/\"><div class=\"d3-o-club-logo\"><picture><!--[if IE 9]><video style=\"display:none\"><![endif]--><source media=\"(min-width:1024px)\" srcset=\"https://static.www.nfl.com/t_q-best/league/api/clubs/logos/DAL\"/><source media=\"(min-width:768px)\" srcset=\"https://static.www.nfl.com/t_q-best/league/api/clubs/logos/DAL\"/><source srcset=\"https://static.www.nfl.com/t_q-best/league/api/clubs/logos/DAL\"/><!--[if IE 9]></video><![endif]--><img class=\"img-responsive\" src=\"https://static.www.nfl.com/t_q-best/league/api/clubs/logos/DAL\"/></picture></div><div class=\"d3-o-club-fullname\">Dallas Cowboys</div><div class=\"d3-o-club-shortname\">Cowboys</div></a></td><td>6</td><td>2</td><td>0</td><td>0.750</td><td>183</td><td>133</td><td>50</td><td class=\"sorter-tie\">4 - 1 - 0</td><td class=\"sorter-tie\">2 - 1 - 0</td><td class=\"sorter-tie\">2 - 1 - 0</td><td>0.667</td><td class=\"sorter-tie\">5 - 2 - 0</td><td>0.714</td><td class=\"sorter-tie\">1 - 0 - 0</td><td class=\"sorter-strike\">2W</td><td class=\"sorter-tie\">4 - 1 - 0</td></tr>,\n",
       " <tr><td scope=\"row\" tabindex=\"0\"><a aria-label=\"Go to Kansas City Chiefs info page.\" class=\"d3-o-club-info\" href=\"/teams/kansas-city-chiefs/\"><div class=\"d3-o-club-logo\"><picture><!--[if IE 9]><video style=\"display:none\"><![endif]--><source media=\"(min-width:1024px)\" srcset=\"https://static.www.nfl.com/t_q-best/league/api/clubs/logos/KC\"/><source media=\"(min-width:768px)\" srcset=\"https://static.www.nfl.com/t_q-best/league/api/clubs/logos/KC\"/><source srcset=\"https://static.www.nfl.com/t_q-best/league/api/clubs/logos/KC\"/><!--[if IE 9]></video><![endif]--><img class=\"img-responsive\" src=\"https://static.www.nfl.com/t_q-best/league/api/clubs/logos/KC\"/></picture></div><div class=\"d3-o-club-fullname\">Kansas City Chiefs</div><div class=\"d3-o-club-shortname\">Chiefs</div></a></td><td>6</td><td>2</td><td>0</td><td>0.750</td><td>243</td><td>189</td><td>54</td><td class=\"sorter-tie\">3 - 1 - 0</td><td class=\"sorter-tie\">3 - 1 - 0</td><td class=\"sorter-tie\">2 - 0 - 0</td><td>1.000</td><td class=\"sorter-tie\">3 - 2 - 0</td><td>0.600</td><td class=\"sorter-tie\">3 - 0 - 0</td><td class=\"sorter-strike\">2W</td><td class=\"sorter-tie\">4 - 1 - 0</td></tr>,\n",
       " <tr><td scope=\"row\" tabindex=\"0\"><a aria-label=\"Go to Miami Dolphins info page.\" class=\"d3-o-club-info\" href=\"/teams/miami-dolphins/\"><div class=\"d3-o-club-logo\"><picture><!--[if IE 9]><video style=\"display:none\"><![endif]--><source media=\"(min-width:1024px)\" srcset=\"https://static.www.nfl.com/t_q-best/league/api/clubs/logos/MIA\"/><source media=\"(min-width:768px)\" srcset=\"https://static.www.nfl.com/t_q-best/league/api/clubs/logos/MIA\"/><source srcset=\"https://static.www.nfl.com/t_q-best/league/api/clubs/logos/MIA\"/><!--[if IE 9]></video><![endif]--><img class=\"img-responsive\" src=\"https://static.www.nfl.com/t_q-best/league/api/clubs/logos/MIA\"/></picture></div><div class=\"d3-o-club-fullname\">Miami Dolphins</div><div class=\"d3-o-club-shortname\">Dolphins</div></a></td><td>6</td><td>3</td><td>0</td><td>0.667</td><td>213</td><td>224</td><td>-11</td><td class=\"sorter-tie\">3 - 1 - 0</td><td class=\"sorter-tie\">3 - 2 - 0</td><td class=\"sorter-tie\">2 - 1 - 0</td><td>0.667</td><td class=\"sorter-tie\">4 - 2 - 0</td><td>0.667</td><td class=\"sorter-tie\">2 - 1 - 0</td><td class=\"sorter-strike\">3W</td><td class=\"sorter-tie\">3 - 2 - 0</td></tr>,\n",
       " <tr><td scope=\"row\" tabindex=\"0\"><a aria-label=\"Go to New York Giants info page.\" class=\"d3-o-club-info\" href=\"/teams/new-york-giants/\"><div class=\"d3-o-club-logo\"><picture><!--[if IE 9]><video style=\"display:none\"><![endif]--><source media=\"(min-width:1024px)\" srcset=\"https://static.www.nfl.com/t_q-best/league/api/clubs/logos/NYG\"/><source media=\"(min-width:768px)\" srcset=\"https://static.www.nfl.com/t_q-best/league/api/clubs/logos/NYG\"/><source srcset=\"https://static.www.nfl.com/t_q-best/league/api/clubs/logos/NYG\"/><!--[if IE 9]></video><![endif]--><img class=\"img-responsive\" src=\"https://static.www.nfl.com/t_q-best/league/api/clubs/logos/NYG\"/></picture></div><div class=\"d3-o-club-fullname\">New York Giants</div><div class=\"d3-o-club-shortname\">Giants</div></a></td><td>6</td><td>2</td><td>0</td><td>0.750</td><td>163</td><td>157</td><td>6</td><td class=\"sorter-tie\">3 - 1 - 0</td><td class=\"sorter-tie\">3 - 1 - 0</td><td class=\"sorter-tie\">0 - 1 - 0</td><td>0.000</td><td class=\"sorter-tie\">3 - 2 - 0</td><td>0.600</td><td class=\"sorter-tie\">3 - 0 - 0</td><td class=\"sorter-strike\">1L</td><td class=\"sorter-tie\">4 - 1 - 0</td></tr>,\n",
       " <tr><td scope=\"row\" tabindex=\"0\"><a aria-label=\"Go to New York Jets info page.\" class=\"d3-o-club-info\" href=\"/teams/new-york-jets/\"><div class=\"d3-o-club-logo\"><picture><!--[if IE 9]><video style=\"display:none\"><![endif]--><source media=\"(min-width:1024px)\" srcset=\"https://static.www.nfl.com/t_q-best/league/api/clubs/logos/NYJ\"/><source media=\"(min-width:768px)\" srcset=\"https://static.www.nfl.com/t_q-best/league/api/clubs/logos/NYJ\"/><source srcset=\"https://static.www.nfl.com/t_q-best/league/api/clubs/logos/NYJ\"/><!--[if IE 9]></video><![endif]--><img class=\"img-responsive\" src=\"https://static.www.nfl.com/t_q-best/league/api/clubs/logos/NYJ\"/></picture></div><div class=\"d3-o-club-fullname\">New York Jets</div><div class=\"d3-o-club-shortname\">Jets</div></a></td><td>6</td><td>3</td><td>0</td><td>0.667</td><td>196</td><td>176</td><td>20</td><td class=\"sorter-tie\">2 - 3 - 0</td><td class=\"sorter-tie\">4 - 0 - 0</td><td class=\"sorter-tie\">2 - 1 - 0</td><td>0.667</td><td class=\"sorter-tie\">5 - 3 - 0</td><td>0.625</td><td class=\"sorter-tie\">1 - 0 - 0</td><td class=\"sorter-strike\">1W</td><td class=\"sorter-tie\">4 - 1 - 0</td></tr>,\n",
       " <tr><td scope=\"row\" tabindex=\"0\"><a aria-label=\"Go to Seattle Seahawks info page.\" class=\"d3-o-club-info\" href=\"/teams/seattle-seahawks/\"><div class=\"d3-o-club-logo\"><picture><!--[if IE 9]><video style=\"display:none\"><![endif]--><source media=\"(min-width:1024px)\" srcset=\"https://static.www.nfl.com/t_q-best/league/api/clubs/logos/SEA\"/><source media=\"(min-width:768px)\" srcset=\"https://static.www.nfl.com/t_q-best/league/api/clubs/logos/SEA\"/><source srcset=\"https://static.www.nfl.com/t_q-best/league/api/clubs/logos/SEA\"/><!--[if IE 9]></video><![endif]--><img class=\"img-responsive\" src=\"https://static.www.nfl.com/t_q-best/league/api/clubs/logos/SEA\"/></picture></div><div class=\"d3-o-club-fullname\">Seattle Seahawks</div><div class=\"d3-o-club-shortname\">Seahawks</div></a></td><td>6</td><td>3</td><td>0</td><td>0.667</td><td>241</td><td>220</td><td>21</td><td class=\"sorter-tie\">3 - 1 - 0</td><td class=\"sorter-tie\">3 - 2 - 0</td><td class=\"sorter-tie\">2 - 1 - 0</td><td>0.667</td><td class=\"sorter-tie\">4 - 3 - 0</td><td>0.571</td><td class=\"sorter-tie\">2 - 0 - 0</td><td class=\"sorter-strike\">4W</td><td class=\"sorter-tie\">4 - 1 - 0</td></tr>,\n",
       " <tr><td scope=\"row\" tabindex=\"0\"><a aria-label=\"Go to Minnesota Vikings info page.\" class=\"d3-o-club-info\" href=\"/teams/minnesota-vikings/\"><div class=\"d3-o-club-logo\"><picture><!--[if IE 9]><video style=\"display:none\"><![endif]--><source media=\"(min-width:1024px)\" srcset=\"https://static.www.nfl.com/t_q-best/league/api/clubs/logos/MIN\"/><source media=\"(min-width:768px)\" srcset=\"https://static.www.nfl.com/t_q-best/league/api/clubs/logos/MIN\"/><source srcset=\"https://static.www.nfl.com/t_q-best/league/api/clubs/logos/MIN\"/><!--[if IE 9]></video><![endif]--><img class=\"img-responsive\" src=\"https://static.www.nfl.com/t_q-best/league/api/clubs/logos/MIN\"/></picture></div><div class=\"d3-o-club-fullname\">Minnesota Vikings</div><div class=\"d3-o-club-shortname\">Vikings</div></a></td><td>7</td><td>1</td><td>0</td><td>0.875</td><td>193</td><td>161</td><td>32</td><td class=\"sorter-tie\">4 - 0 - 0</td><td class=\"sorter-tie\">3 - 1 - 0</td><td class=\"sorter-tie\">3 - 0 - 0</td><td>1.000</td><td class=\"sorter-tie\">6 - 1 - 0</td><td>0.857</td><td class=\"sorter-tie\">1 - 0 - 0</td><td class=\"sorter-strike\">6W</td><td class=\"sorter-tie\">5 - 0 - 0</td></tr>,\n",
       " <tr><td scope=\"row\" tabindex=\"0\"><a aria-label=\"Go to Philadelphia Eagles info page.\" class=\"d3-o-club-info\" href=\"/teams/philadelphia-eagles/\"><div class=\"d3-o-club-logo\"><picture><!--[if IE 9]><video style=\"display:none\"><![endif]--><source media=\"(min-width:1024px)\" srcset=\"https://static.www.nfl.com/t_q-best/league/api/clubs/logos/PHI\"/><source media=\"(min-width:768px)\" srcset=\"https://static.www.nfl.com/t_q-best/league/api/clubs/logos/PHI\"/><source srcset=\"https://static.www.nfl.com/t_q-best/league/api/clubs/logos/PHI\"/><!--[if IE 9]></video><![endif]--><img class=\"img-responsive\" src=\"https://static.www.nfl.com/t_q-best/league/api/clubs/logos/PHI\"/></picture></div><div class=\"d3-o-club-fullname\">Philadelphia Eagles</div><div class=\"d3-o-club-shortname\">Eagles</div></a></td><td>8</td><td>0</td><td>0</td><td>1.000</td><td>225</td><td>135</td><td>90</td><td class=\"sorter-tie\">4 - 0 - 0</td><td class=\"sorter-tie\">4 - 0 - 0</td><td class=\"sorter-tie\">2 - 0 - 0</td><td>1.000</td><td class=\"sorter-tie\">5 - 0 - 0</td><td>1.000</td><td class=\"sorter-tie\">3 - 0 - 0</td><td class=\"sorter-strike\">8W</td><td class=\"sorter-tie\">5 - 0 - 0</td></tr>]"
      ]
     },
     "execution_count": 9,
     "metadata": {},
     "output_type": "execute_result"
    }
   ],
   "source": [
    "table_rows = table.findAll('tr')[1:]\n",
    "table_rows"
   ]
  },
  {
   "cell_type": "markdown",
   "id": "a5beafce",
   "metadata": {},
   "source": [
    "### Fill a DataFrame with tableData"
   ]
  },
  {
   "cell_type": "code",
   "execution_count": 19,
   "id": "225115a9",
   "metadata": {},
   "outputs": [],
   "source": [
    "for i in table_rows:\n",
    "    row_data = i.findAll('td')\n",
    "    row = [cell.text for cell in row_data]\n",
    "    length = len(df)\n",
    "    df.loc[length] = row"
   ]
  },
  {
   "cell_type": "code",
   "execution_count": 20,
   "id": "5baa0853",
   "metadata": {},
   "outputs": [
    {
     "data": {
      "text/html": [
       "<div>\n",
       "<style scoped>\n",
       "    .dataframe tbody tr th:only-of-type {\n",
       "        vertical-align: middle;\n",
       "    }\n",
       "\n",
       "    .dataframe tbody tr th {\n",
       "        vertical-align: top;\n",
       "    }\n",
       "\n",
       "    .dataframe thead th {\n",
       "        text-align: right;\n",
       "    }\n",
       "</style>\n",
       "<table border=\"1\" class=\"dataframe\">\n",
       "  <thead>\n",
       "    <tr style=\"text-align: right;\">\n",
       "      <th></th>\n",
       "      <th>NFL Team</th>\n",
       "      <th>W</th>\n",
       "      <th>L</th>\n",
       "      <th>T</th>\n",
       "      <th>PCT</th>\n",
       "      <th>PF</th>\n",
       "      <th>PA</th>\n",
       "      <th>Net Pts</th>\n",
       "      <th>Home</th>\n",
       "      <th>Road</th>\n",
       "      <th>Div</th>\n",
       "      <th>Pct</th>\n",
       "      <th>Conf</th>\n",
       "      <th>Pct</th>\n",
       "      <th>Non-Conf</th>\n",
       "      <th>Strk</th>\n",
       "      <th>Last 5</th>\n",
       "    </tr>\n",
       "  </thead>\n",
       "  <tbody>\n",
       "    <tr>\n",
       "      <th>0</th>\n",
       "      <td>Houston TexansTexans</td>\n",
       "      <td>1</td>\n",
       "      <td>6</td>\n",
       "      <td>1</td>\n",
       "      <td>0.188</td>\n",
       "      <td>133</td>\n",
       "      <td>183</td>\n",
       "      <td>-50</td>\n",
       "      <td>0 - 3 - 1</td>\n",
       "      <td>1 - 3 - 0</td>\n",
       "      <td>1 - 1 - 1</td>\n",
       "      <td>0.500</td>\n",
       "      <td>1 - 4 - 1</td>\n",
       "      <td>0.250</td>\n",
       "      <td>0 - 2 - 0</td>\n",
       "      <td>3L</td>\n",
       "      <td>1 - 4 - 0</td>\n",
       "    </tr>\n",
       "    <tr>\n",
       "      <th>1</th>\n",
       "      <td>Carolina PanthersPanthers</td>\n",
       "      <td>2</td>\n",
       "      <td>7</td>\n",
       "      <td>0</td>\n",
       "      <td>0.222</td>\n",
       "      <td>179</td>\n",
       "      <td>228</td>\n",
       "      <td>-49</td>\n",
       "      <td>2 - 3 - 0</td>\n",
       "      <td>0 - 4 - 0</td>\n",
       "      <td>2 - 1 - 0</td>\n",
       "      <td>0.667</td>\n",
       "      <td>2 - 5 - 0</td>\n",
       "      <td>0.286</td>\n",
       "      <td>0 - 2 - 0</td>\n",
       "      <td>2L</td>\n",
       "      <td>1 - 4 - 0</td>\n",
       "    </tr>\n",
       "    <tr>\n",
       "      <th>2</th>\n",
       "      <td>Detroit LionsLions</td>\n",
       "      <td>2</td>\n",
       "      <td>6</td>\n",
       "      <td>0</td>\n",
       "      <td>0.250</td>\n",
       "      <td>188</td>\n",
       "      <td>234</td>\n",
       "      <td>-46</td>\n",
       "      <td>2 - 3 - 0</td>\n",
       "      <td>0 - 3 - 0</td>\n",
       "      <td>1 - 1 - 0</td>\n",
       "      <td>0.500</td>\n",
       "      <td>2 - 4 - 0</td>\n",
       "      <td>0.333</td>\n",
       "      <td>0 - 2 - 0</td>\n",
       "      <td>1W</td>\n",
       "      <td>1 - 4 - 0</td>\n",
       "    </tr>\n",
       "    <tr>\n",
       "      <th>3</th>\n",
       "      <td>Las Vegas RaidersRaiders</td>\n",
       "      <td>2</td>\n",
       "      <td>6</td>\n",
       "      <td>0</td>\n",
       "      <td>0.250</td>\n",
       "      <td>183</td>\n",
       "      <td>201</td>\n",
       "      <td>-18</td>\n",
       "      <td>2 - 1 - 0</td>\n",
       "      <td>0 - 5 - 0</td>\n",
       "      <td>1 - 2 - 0</td>\n",
       "      <td>0.333</td>\n",
       "      <td>2 - 4 - 0</td>\n",
       "      <td>0.333</td>\n",
       "      <td>0 - 2 - 0</td>\n",
       "      <td>2L</td>\n",
       "      <td>2 - 3 - 0</td>\n",
       "    </tr>\n",
       "    <tr>\n",
       "      <th>4</th>\n",
       "      <td>Pittsburgh SteelersSteelers</td>\n",
       "      <td>2</td>\n",
       "      <td>6</td>\n",
       "      <td>0</td>\n",
       "      <td>0.250</td>\n",
       "      <td>120</td>\n",
       "      <td>197</td>\n",
       "      <td>-77</td>\n",
       "      <td>1 - 2 - 0</td>\n",
       "      <td>1 - 4 - 0</td>\n",
       "      <td>1 - 1 - 0</td>\n",
       "      <td>0.500</td>\n",
       "      <td>1 - 5 - 0</td>\n",
       "      <td>0.167</td>\n",
       "      <td>1 - 1 - 0</td>\n",
       "      <td>2L</td>\n",
       "      <td>1 - 4 - 0</td>\n",
       "    </tr>\n",
       "  </tbody>\n",
       "</table>\n",
       "</div>"
      ],
      "text/plain": [
       "                      NFL Team  W  L  T    PCT   PF   PA Net Pts       Home  \\\n",
       "0         Houston TexansTexans  1  6  1  0.188  133  183     -50  0 - 3 - 1   \n",
       "1    Carolina PanthersPanthers  2  7  0  0.222  179  228     -49  2 - 3 - 0   \n",
       "2           Detroit LionsLions  2  6  0  0.250  188  234     -46  2 - 3 - 0   \n",
       "3     Las Vegas RaidersRaiders  2  6  0  0.250  183  201     -18  2 - 1 - 0   \n",
       "4  Pittsburgh SteelersSteelers  2  6  0  0.250  120  197     -77  1 - 2 - 0   \n",
       "\n",
       "        Road        Div    Pct       Conf    Pct   Non-Conf Strk     Last 5  \n",
       "0  1 - 3 - 0  1 - 1 - 1  0.500  1 - 4 - 1  0.250  0 - 2 - 0   3L  1 - 4 - 0  \n",
       "1  0 - 4 - 0  2 - 1 - 0  0.667  2 - 5 - 0  0.286  0 - 2 - 0   2L  1 - 4 - 0  \n",
       "2  0 - 3 - 0  1 - 1 - 0  0.500  2 - 4 - 0  0.333  0 - 2 - 0   1W  1 - 4 - 0  \n",
       "3  0 - 5 - 0  1 - 2 - 0  0.333  2 - 4 - 0  0.333  0 - 2 - 0   2L  2 - 3 - 0  \n",
       "4  1 - 4 - 0  1 - 1 - 0  0.500  1 - 5 - 0  0.167  1 - 1 - 0   2L  1 - 4 - 0  "
      ]
     },
     "execution_count": 20,
     "metadata": {},
     "output_type": "execute_result"
    }
   ],
   "source": [
    "df.head()"
   ]
  },
  {
   "cell_type": "code",
   "execution_count": 21,
   "id": "cab1c78b",
   "metadata": {},
   "outputs": [],
   "source": [
    "df.to_excel('NATIONAL_FOOTBALL_LEAGUE_TABLE.xlsx')"
   ]
  }
 ],
 "metadata": {
  "kernelspec": {
   "display_name": "Python 3 (ipykernel)",
   "language": "python",
   "name": "python3"
  },
  "language_info": {
   "codemirror_mode": {
    "name": "ipython",
    "version": 3
   },
   "file_extension": ".py",
   "mimetype": "text/x-python",
   "name": "python",
   "nbconvert_exporter": "python",
   "pygments_lexer": "ipython3",
   "version": "3.9.7"
  }
 },
 "nbformat": 4,
 "nbformat_minor": 5
}
