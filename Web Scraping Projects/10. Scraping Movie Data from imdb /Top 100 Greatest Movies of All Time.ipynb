{
 "cells": [
  {
   "cell_type": "markdown",
   "id": "c01c0d27",
   "metadata": {},
   "source": [
    "## Scraping Movie Data from imdb "
   ]
  },
  {
   "cell_type": "code",
   "execution_count": 48,
   "id": "ebef1e72",
   "metadata": {},
   "outputs": [],
   "source": [
    "import pandas as pd\n",
    "import numpy as np\n",
    "from bs4 import BeautifulSoup\n",
    "from selenium import webdriver\n",
    "import time as time\n",
    "from selenium.webdriver.chrome.service import Service\n",
    "from selenium.webdriver.chrome.options import Options\n",
    "from selenium.webdriver.common.by import By"
   ]
  },
  {
   "cell_type": "code",
   "execution_count": 2,
   "id": "cb0fac95",
   "metadata": {},
   "outputs": [],
   "source": [
    "# Instalation\n",
    "s = Service((r'C:\\Users\\eli\\Desktop\\AllMyRepos\\Web-Scraping-with-BeautifulSoup-and-Selenium\\Project No.9\\chromedriver.exe'))\n",
    "chromeOptions = Options()\n",
    "chromeOptions.headless = False\n",
    "driver = webdriver.Chrome(service=s, options=chromeOptions)"
   ]
  },
  {
   "cell_type": "code",
   "execution_count": 3,
   "id": "b4da3286",
   "metadata": {},
   "outputs": [],
   "source": [
    "# get URL\n",
    "url = 'https://www.imdb.com/list/ls055592025/'\n",
    "driver.get(url)"
   ]
  },
  {
   "cell_type": "markdown",
   "id": "00209b60",
   "metadata": {},
   "source": [
    "### Results for one item"
   ]
  },
  {
   "cell_type": "code",
   "execution_count": 4,
   "id": "b81c1260",
   "metadata": {},
   "outputs": [],
   "source": [
    "# soup object\n",
    "soup = BeautifulSoup(driver.page_source, 'lxml')"
   ]
  },
  {
   "cell_type": "code",
   "execution_count": 5,
   "id": "76c97865",
   "metadata": {},
   "outputs": [
    {
     "data": {
      "text/plain": [
       "100"
      ]
     },
     "execution_count": 5,
     "metadata": {},
     "output_type": "execute_result"
    }
   ],
   "source": [
    "# results\n",
    "results = soup.findAll('div', class_ = 'lister-item mode-detail')\n",
    "len(results)"
   ]
  },
  {
   "cell_type": "code",
   "execution_count": 6,
   "id": "b158b398",
   "metadata": {},
   "outputs": [
    {
     "data": {
      "text/plain": [
       "'1.The Godfather(1972)'"
      ]
     },
     "execution_count": 6,
     "metadata": {},
     "output_type": "execute_result"
    }
   ],
   "source": [
    "# title\n",
    "title = results[0].find('h3', class_ = 'lister-item-header').text.replace('\\n', '')\n",
    "title"
   ]
  },
  {
   "cell_type": "code",
   "execution_count": 7,
   "id": "3edd15e6",
   "metadata": {},
   "outputs": [
    {
     "data": {
      "text/plain": [
       "'The aging patriarch of an organized crime dynasty in postwar New York City transfers control of his clandestine empire to his reluctant youngest son.'"
      ]
     },
     "execution_count": 7,
     "metadata": {},
     "output_type": "execute_result"
    }
   ],
   "source": [
    "# information\n",
    "information = results[0].find('p', class_ = \"\").text.replace('\\n', '')\n",
    "information"
   ]
  },
  {
   "cell_type": "code",
   "execution_count": 8,
   "id": "512b14e7",
   "metadata": {},
   "outputs": [
    {
     "data": {
      "text/plain": [
       "<p>Actors: 5 Stars\n",
       "Direction: 5 Stars\n",
       "Screenplay: 5 Stars<br/><br/>Oscars: 3   \n",
       "Oscar Nominations: 11\n",
       "BAFTA Awards: 0\n",
       "BAFTA Nominations: 4\n",
       "Golden Globes: 6\n",
       "Golden Globe Nominations: 8</p>"
      ]
     },
     "execution_count": 8,
     "metadata": {},
     "output_type": "execute_result"
    }
   ],
   "source": [
    "# description\n",
    "description = results[0].find(class_ = 'list-description').find('p')\n",
    "description"
   ]
  },
  {
   "cell_type": "code",
   "execution_count": 9,
   "id": "34d89bdd",
   "metadata": {},
   "outputs": [
    {
     "data": {
      "text/plain": [
       "'9.2'"
      ]
     },
     "execution_count": 9,
     "metadata": {},
     "output_type": "execute_result"
    }
   ],
   "source": [
    "# rating\n",
    "rating = results[0].find(class_ = 'ipl-rating-star__rating').text\n",
    "rating"
   ]
  },
  {
   "cell_type": "code",
   "execution_count": 10,
   "id": "9082f97d",
   "metadata": {},
   "outputs": [
    {
     "data": {
      "text/plain": [
       "'100'"
      ]
     },
     "execution_count": 10,
     "metadata": {},
     "output_type": "execute_result"
    }
   ],
   "source": [
    "# metascore\n",
    "metascore = results[0].find('div', class_ = 'inline-block ratings-metascore').span.text.replace(' ', '')\n",
    "metascore"
   ]
  },
  {
   "cell_type": "code",
   "execution_count": 11,
   "id": "725aa8a3",
   "metadata": {},
   "outputs": [
    {
     "data": {
      "text/plain": [
       "'Francis Ford Coppola'"
      ]
     },
     "execution_count": 11,
     "metadata": {},
     "output_type": "execute_result"
    }
   ],
   "source": [
    "# director\n",
    "director = results[0].findAll('a')[-5].text\n",
    "director"
   ]
  },
  {
   "cell_type": "code",
   "execution_count": 12,
   "id": "bd7e5d69",
   "metadata": {},
   "outputs": [
    {
     "data": {
      "text/plain": [
       "['Marlon Brando', 'Al Pacino', 'James Caan', 'Diane Keaton']"
      ]
     },
     "execution_count": 12,
     "metadata": {},
     "output_type": "execute_result"
    }
   ],
   "source": [
    "# stars\n",
    "stars_list = []\n",
    "stars = results[0].findAll('a')[-4 : ]\n",
    "for star in stars:\n",
    "    stars_list.append(star.text)\n",
    "stars_list"
   ]
  },
  {
   "cell_type": "markdown",
   "id": "1256a275",
   "metadata": {},
   "source": [
    "### Scroling and collecting results for all items"
   ]
  },
  {
   "cell_type": "code",
   "execution_count": 13,
   "id": "7362fe96",
   "metadata": {},
   "outputs": [],
   "source": [
    "# lists\n",
    "titles_ = []\n",
    "informations_ = []\n",
    "descriptions_ = []\n",
    "ratings_ = []\n",
    "metascores_ = []\n",
    "directors_ = []\n",
    "stars_ = []"
   ]
  },
  {
   "cell_type": "code",
   "execution_count": 14,
   "id": "c5b68846",
   "metadata": {},
   "outputs": [],
   "source": [
    "# Scrolling\n",
    "last_height = driver.execute_script('return document.documentElement.scrollTop')\n",
    "while True:\n",
    "    # Soup Object\n",
    "    soup = BeautifulSoup(driver.page_source, 'lxml')\n",
    "    results = soup.findAll('div', class_ = 'lister-item mode-detail')\n",
    "\n",
    "    for result in results:\n",
    "        title = result.find('h3', class_ = 'lister-item-header').text.replace('\\n', '')\n",
    "        titles_.append(title)\n",
    "        information = result.find('p', class_ = \"\").text.replace('\\n', '')\n",
    "        informations_.append(information)\n",
    "        description = result.find(class_ = 'list-description').find('p')\n",
    "        descriptions_.append(description)\n",
    "        rating = result.find(class_ = 'ipl-rating-star__rating').text\n",
    "        ratings_.append(rating)\n",
    "        try:\n",
    "            metascore = result.find('div', class_ = 'inline-block ratings-metascore').span.text.replace(' ', '')\n",
    "            metascores_.append(metascore)\n",
    "        except:\n",
    "            metascores_.append(np.nan)\n",
    "        \n",
    "        director = result.findAll('a')[-5].text\n",
    "        directors_.append(director)\n",
    "        stars_list = []\n",
    "        stars = result.findAll('a')[-4 : ]\n",
    "        for star in stars:\n",
    "            stars_list.append(star.text)\n",
    "        stars_.append(stars_list)\n",
    "\n",
    "    driver.execute_script(\"window.scrollBy(0, 10500);\") \n",
    "    time.sleep(2)\n",
    "    new_height = driver.execute_script('return document.documentElement.scrollTop;')\n",
    "    if new_height == last_height:\n",
    "        break\n",
    "    last_height = new_height"
   ]
  },
  {
   "cell_type": "code",
   "execution_count": 36,
   "id": "5f87f55c",
   "metadata": {},
   "outputs": [],
   "source": [
    "df_movies = pd.DataFrame({ 'Title' : titles_,'Information': informations_,'Description': descriptions_, \n",
    "                           'Rating' : ratings_, 'Metascore' : metascores_,'Director' : directors_,\n",
    "                           'Stars' : stars_})"
   ]
  },
  {
   "cell_type": "code",
   "execution_count": 27,
   "id": "8dcff8f9",
   "metadata": {},
   "outputs": [
    {
     "name": "stdout",
     "output_type": "stream",
     "text": [
      "<class 'pandas.core.frame.DataFrame'>\n",
      "RangeIndex: 600 entries, 0 to 599\n",
      "Data columns (total 7 columns):\n",
      " #   Column       Non-Null Count  Dtype \n",
      "---  ------       --------------  ----- \n",
      " 0   Title        600 non-null    object\n",
      " 1   Information  600 non-null    object\n",
      " 2   Description  600 non-null    object\n",
      " 3   Rating       600 non-null    object\n",
      " 4   Metascore    582 non-null    object\n",
      " 5   Director     600 non-null    object\n",
      " 6   Stars        600 non-null    object\n",
      "dtypes: object(7)\n",
      "memory usage: 32.9+ KB\n"
     ]
    }
   ],
   "source": [
    "df_movies.info()"
   ]
  },
  {
   "cell_type": "code",
   "execution_count": 17,
   "id": "fcfcecac",
   "metadata": {},
   "outputs": [
    {
     "data": {
      "text/html": [
       "<div>\n",
       "<style scoped>\n",
       "    .dataframe tbody tr th:only-of-type {\n",
       "        vertical-align: middle;\n",
       "    }\n",
       "\n",
       "    .dataframe tbody tr th {\n",
       "        vertical-align: top;\n",
       "    }\n",
       "\n",
       "    .dataframe thead th {\n",
       "        text-align: right;\n",
       "    }\n",
       "</style>\n",
       "<table border=\"1\" class=\"dataframe\">\n",
       "  <thead>\n",
       "    <tr style=\"text-align: right;\">\n",
       "      <th></th>\n",
       "      <th>Title</th>\n",
       "      <th>Information</th>\n",
       "      <th>Description</th>\n",
       "      <th>Rating</th>\n",
       "      <th>Metascore</th>\n",
       "      <th>Director</th>\n",
       "      <th>Stars</th>\n",
       "    </tr>\n",
       "  </thead>\n",
       "  <tbody>\n",
       "    <tr>\n",
       "      <th>0</th>\n",
       "      <td>1.The Godfather(1972)</td>\n",
       "      <td>The aging patriarch of an organized crime dyna...</td>\n",
       "      <td>[Actors: 5 Stars\\nDirection: 5 Stars\\nScreenpl...</td>\n",
       "      <td>9.2</td>\n",
       "      <td>100</td>\n",
       "      <td>Francis Ford Coppola</td>\n",
       "      <td>[Marlon Brando, Al Pacino, James Caan, Diane K...</td>\n",
       "    </tr>\n",
       "    <tr>\n",
       "      <th>1</th>\n",
       "      <td>2.The Shawshank Redemption(1994)</td>\n",
       "      <td>Two imprisoned men bond over a number of years...</td>\n",
       "      <td>[Actors: 4.8 Stars\\nDirection: 5 Stars\\nScreen...</td>\n",
       "      <td>9.3</td>\n",
       "      <td>81</td>\n",
       "      <td>Frank Darabont</td>\n",
       "      <td>[Tim Robbins, Morgan Freeman, Bob Gunton, Will...</td>\n",
       "    </tr>\n",
       "    <tr>\n",
       "      <th>2</th>\n",
       "      <td>3.Schindler's List(1993)</td>\n",
       "      <td>In German-occupied Poland during World War II,...</td>\n",
       "      <td>[Actors: 4.9 Stars\\nDirection: 5 Stars\\nScreen...</td>\n",
       "      <td>9</td>\n",
       "      <td>94</td>\n",
       "      <td>Steven Spielberg</td>\n",
       "      <td>[Liam Neeson, Ralph Fiennes, Ben Kingsley, Car...</td>\n",
       "    </tr>\n",
       "    <tr>\n",
       "      <th>3</th>\n",
       "      <td>4.Raging Bull(1980)</td>\n",
       "      <td>The life of boxer Jake LaMotta, whose violence...</td>\n",
       "      <td>[Actors: 5 Stars\\nDirection: 5 Stars\\nScreenpl...</td>\n",
       "      <td>8.2</td>\n",
       "      <td>89</td>\n",
       "      <td>Martin Scorsese</td>\n",
       "      <td>[Robert De Niro, Cathy Moriarty, Joe Pesci, Fr...</td>\n",
       "    </tr>\n",
       "    <tr>\n",
       "      <th>4</th>\n",
       "      <td>5.Casablanca(1942)</td>\n",
       "      <td>A cynical expatriate American cafe owner strug...</td>\n",
       "      <td>[Actors: 5 Stars\\nDirection: 5 Stars\\nScreenpl...</td>\n",
       "      <td>8.5</td>\n",
       "      <td>100</td>\n",
       "      <td>Michael Curtiz</td>\n",
       "      <td>[Humphrey Bogart, Ingrid Bergman, Paul Henreid...</td>\n",
       "    </tr>\n",
       "  </tbody>\n",
       "</table>\n",
       "</div>"
      ],
      "text/plain": [
       "                              Title  \\\n",
       "0             1.The Godfather(1972)   \n",
       "1  2.The Shawshank Redemption(1994)   \n",
       "2          3.Schindler's List(1993)   \n",
       "3               4.Raging Bull(1980)   \n",
       "4                5.Casablanca(1942)   \n",
       "\n",
       "                                         Information  \\\n",
       "0  The aging patriarch of an organized crime dyna...   \n",
       "1  Two imprisoned men bond over a number of years...   \n",
       "2  In German-occupied Poland during World War II,...   \n",
       "3  The life of boxer Jake LaMotta, whose violence...   \n",
       "4  A cynical expatriate American cafe owner strug...   \n",
       "\n",
       "                                         Description Rating Metascore  \\\n",
       "0  [Actors: 5 Stars\\nDirection: 5 Stars\\nScreenpl...    9.2       100   \n",
       "1  [Actors: 4.8 Stars\\nDirection: 5 Stars\\nScreen...    9.3        81   \n",
       "2  [Actors: 4.9 Stars\\nDirection: 5 Stars\\nScreen...      9        94   \n",
       "3  [Actors: 5 Stars\\nDirection: 5 Stars\\nScreenpl...    8.2        89   \n",
       "4  [Actors: 5 Stars\\nDirection: 5 Stars\\nScreenpl...    8.5       100   \n",
       "\n",
       "               Director                                              Stars  \n",
       "0  Francis Ford Coppola  [Marlon Brando, Al Pacino, James Caan, Diane K...  \n",
       "1        Frank Darabont  [Tim Robbins, Morgan Freeman, Bob Gunton, Will...  \n",
       "2      Steven Spielberg  [Liam Neeson, Ralph Fiennes, Ben Kingsley, Car...  \n",
       "3       Martin Scorsese  [Robert De Niro, Cathy Moriarty, Joe Pesci, Fr...  \n",
       "4        Michael Curtiz  [Humphrey Bogart, Ingrid Bergman, Paul Henreid...  "
      ]
     },
     "execution_count": 17,
     "metadata": {},
     "output_type": "execute_result"
    }
   ],
   "source": [
    "df_movies.head()"
   ]
  },
  {
   "cell_type": "markdown",
   "id": "1accaad1",
   "metadata": {},
   "source": [
    "### Data Cleaning"
   ]
  },
  {
   "cell_type": "code",
   "execution_count": 28,
   "id": "5440acfb",
   "metadata": {},
   "outputs": [
    {
     "data": {
      "text/plain": [
       "0      [Actors: 5 Stars\\nDirection: 5 Stars\\nScreenpl...\n",
       "1      [Actors: 4.8 Stars\\nDirection: 5 Stars\\nScreen...\n",
       "2      [Actors: 4.9 Stars\\nDirection: 5 Stars\\nScreen...\n",
       "3      [Actors: 5 Stars\\nDirection: 5 Stars\\nScreenpl...\n",
       "4      [Actors: 5 Stars\\nDirection: 5 Stars\\nScreenpl...\n",
       "                             ...                        \n",
       "595    [Actors: 4.8 Stars\\nDirection: 5 Stars\\nScreen...\n",
       "596    [Actors: 4.8 Stars\\nDirection: 4.9 Stars\\nScre...\n",
       "597    [*****\\nActors: 4.7 Stars\\nDirection: 4.7 Star...\n",
       "598    [Actors: 4.8 Stars\\nDirection: 4.9 Stars\\nScre...\n",
       "599    [Actors: 4.6 Stars\\nDirection: 4.7 Stars\\nScre...\n",
       "Name: Description, Length: 600, dtype: object"
      ]
     },
     "execution_count": 28,
     "metadata": {},
     "output_type": "execute_result"
    }
   ],
   "source": [
    "df_movies['Description']"
   ]
  },
  {
   "cell_type": "code",
   "execution_count": 37,
   "id": "ef0eacfe",
   "metadata": {},
   "outputs": [
    {
     "data": {
      "text/html": [
       "<div>\n",
       "<style scoped>\n",
       "    .dataframe tbody tr th:only-of-type {\n",
       "        vertical-align: middle;\n",
       "    }\n",
       "\n",
       "    .dataframe tbody tr th {\n",
       "        vertical-align: top;\n",
       "    }\n",
       "\n",
       "    .dataframe thead th {\n",
       "        text-align: right;\n",
       "    }\n",
       "</style>\n",
       "<table border=\"1\" class=\"dataframe\">\n",
       "  <thead>\n",
       "    <tr style=\"text-align: right;\">\n",
       "      <th></th>\n",
       "      <th>Title</th>\n",
       "      <th>Information</th>\n",
       "      <th>Description</th>\n",
       "      <th>Rating</th>\n",
       "      <th>Metascore</th>\n",
       "      <th>Director</th>\n",
       "      <th>Stars</th>\n",
       "      <th>New_description</th>\n",
       "    </tr>\n",
       "  </thead>\n",
       "  <tbody>\n",
       "    <tr>\n",
       "      <th>0</th>\n",
       "      <td>1.The Godfather(1972)</td>\n",
       "      <td>The aging patriarch of an organized crime dyna...</td>\n",
       "      <td>[Actors: 5 Stars\\nDirection: 5 Stars\\nScreenpl...</td>\n",
       "      <td>9.2</td>\n",
       "      <td>100</td>\n",
       "      <td>Francis Ford Coppola</td>\n",
       "      <td>[Marlon Brando, Al Pacino, James Caan, Diane K...</td>\n",
       "      <td>Actors: 5 Direction: 5 Screenplay: 5 Oscars: 3...</td>\n",
       "    </tr>\n",
       "    <tr>\n",
       "      <th>1</th>\n",
       "      <td>2.The Shawshank Redemption(1994)</td>\n",
       "      <td>Two imprisoned men bond over a number of years...</td>\n",
       "      <td>[Actors: 4.8 Stars\\nDirection: 5 Stars\\nScreen...</td>\n",
       "      <td>9.3</td>\n",
       "      <td>81</td>\n",
       "      <td>Frank Darabont</td>\n",
       "      <td>[Tim Robbins, Morgan Freeman, Bob Gunton, Will...</td>\n",
       "      <td>Actors: 4.8 Direction: 5 Screenplay: 4.9 Oscar...</td>\n",
       "    </tr>\n",
       "    <tr>\n",
       "      <th>2</th>\n",
       "      <td>3.Schindler's List(1993)</td>\n",
       "      <td>In German-occupied Poland during World War II,...</td>\n",
       "      <td>[Actors: 4.9 Stars\\nDirection: 5 Stars\\nScreen...</td>\n",
       "      <td>9</td>\n",
       "      <td>94</td>\n",
       "      <td>Steven Spielberg</td>\n",
       "      <td>[Liam Neeson, Ralph Fiennes, Ben Kingsley, Car...</td>\n",
       "      <td>Actors: 4.9 Direction: 5 Screenplay: 5 Oscars:...</td>\n",
       "    </tr>\n",
       "    <tr>\n",
       "      <th>3</th>\n",
       "      <td>4.Raging Bull(1980)</td>\n",
       "      <td>The life of boxer Jake LaMotta, whose violence...</td>\n",
       "      <td>[Actors: 5 Stars\\nDirection: 5 Stars\\nScreenpl...</td>\n",
       "      <td>8.2</td>\n",
       "      <td>89</td>\n",
       "      <td>Martin Scorsese</td>\n",
       "      <td>[Robert De Niro, Cathy Moriarty, Joe Pesci, Fr...</td>\n",
       "      <td>Actors: 5 Direction: 5 Screenplay: 5 Oscars: 2...</td>\n",
       "    </tr>\n",
       "    <tr>\n",
       "      <th>4</th>\n",
       "      <td>5.Casablanca(1942)</td>\n",
       "      <td>A cynical expatriate American cafe owner strug...</td>\n",
       "      <td>[Actors: 5 Stars\\nDirection: 5 Stars\\nScreenpl...</td>\n",
       "      <td>8.5</td>\n",
       "      <td>100</td>\n",
       "      <td>Michael Curtiz</td>\n",
       "      <td>[Humphrey Bogart, Ingrid Bergman, Paul Henreid...</td>\n",
       "      <td>Actors: 5 Direction: 5 Screenplay: 5 Oscars: 3...</td>\n",
       "    </tr>\n",
       "  </tbody>\n",
       "</table>\n",
       "</div>"
      ],
      "text/plain": [
       "                              Title  \\\n",
       "0             1.The Godfather(1972)   \n",
       "1  2.The Shawshank Redemption(1994)   \n",
       "2          3.Schindler's List(1993)   \n",
       "3               4.Raging Bull(1980)   \n",
       "4                5.Casablanca(1942)   \n",
       "\n",
       "                                         Information  \\\n",
       "0  The aging patriarch of an organized crime dyna...   \n",
       "1  Two imprisoned men bond over a number of years...   \n",
       "2  In German-occupied Poland during World War II,...   \n",
       "3  The life of boxer Jake LaMotta, whose violence...   \n",
       "4  A cynical expatriate American cafe owner strug...   \n",
       "\n",
       "                                         Description Rating Metascore  \\\n",
       "0  [Actors: 5 Stars\\nDirection: 5 Stars\\nScreenpl...    9.2       100   \n",
       "1  [Actors: 4.8 Stars\\nDirection: 5 Stars\\nScreen...    9.3        81   \n",
       "2  [Actors: 4.9 Stars\\nDirection: 5 Stars\\nScreen...      9        94   \n",
       "3  [Actors: 5 Stars\\nDirection: 5 Stars\\nScreenpl...    8.2        89   \n",
       "4  [Actors: 5 Stars\\nDirection: 5 Stars\\nScreenpl...    8.5       100   \n",
       "\n",
       "               Director                                              Stars  \\\n",
       "0  Francis Ford Coppola  [Marlon Brando, Al Pacino, James Caan, Diane K...   \n",
       "1        Frank Darabont  [Tim Robbins, Morgan Freeman, Bob Gunton, Will...   \n",
       "2      Steven Spielberg  [Liam Neeson, Ralph Fiennes, Ben Kingsley, Car...   \n",
       "3       Martin Scorsese  [Robert De Niro, Cathy Moriarty, Joe Pesci, Fr...   \n",
       "4        Michael Curtiz  [Humphrey Bogart, Ingrid Bergman, Paul Henreid...   \n",
       "\n",
       "                                     New_description  \n",
       "0  Actors: 5 Direction: 5 Screenplay: 5 Oscars: 3...  \n",
       "1  Actors: 4.8 Direction: 5 Screenplay: 4.9 Oscar...  \n",
       "2  Actors: 4.9 Direction: 5 Screenplay: 5 Oscars:...  \n",
       "3  Actors: 5 Direction: 5 Screenplay: 5 Oscars: 2...  \n",
       "4  Actors: 5 Direction: 5 Screenplay: 5 Oscars: 3...  "
      ]
     },
     "execution_count": 37,
     "metadata": {},
     "output_type": "execute_result"
    }
   ],
   "source": [
    "new_description_ = []\n",
    "chars = ['\\n','*', '<p>','</p>', '<br/>', '<\\br>', 'Stars']\n",
    "for index, row in df_movies.iterrows():\n",
    "    new_description = row['Description']\n",
    "    for i in chars:\n",
    "        new_description = str(new_description).replace(i, '')\n",
    "    new_description_.append(new_description)\n",
    "new_description_\n",
    "df_movies[\"New_description\"] = new_description_\n",
    "df_movies.head()"
   ]
  },
  {
   "cell_type": "code",
   "execution_count": 38,
   "id": "31d73117",
   "metadata": {},
   "outputs": [
    {
     "data": {
      "text/html": [
       "<div>\n",
       "<style scoped>\n",
       "    .dataframe tbody tr th:only-of-type {\n",
       "        vertical-align: middle;\n",
       "    }\n",
       "\n",
       "    .dataframe tbody tr th {\n",
       "        vertical-align: top;\n",
       "    }\n",
       "\n",
       "    .dataframe thead th {\n",
       "        text-align: right;\n",
       "    }\n",
       "</style>\n",
       "<table border=\"1\" class=\"dataframe\">\n",
       "  <thead>\n",
       "    <tr style=\"text-align: right;\">\n",
       "      <th></th>\n",
       "      <th>Title</th>\n",
       "      <th>Information</th>\n",
       "      <th>Description</th>\n",
       "      <th>Rating</th>\n",
       "      <th>Metascore</th>\n",
       "      <th>Director</th>\n",
       "      <th>Stars</th>\n",
       "      <th>New_description</th>\n",
       "    </tr>\n",
       "  </thead>\n",
       "  <tbody>\n",
       "    <tr>\n",
       "      <th>0</th>\n",
       "      <td>1.The Godfather(1972)</td>\n",
       "      <td>The aging patriarch of an organized crime dyna...</td>\n",
       "      <td>[Actors: 5 Stars\\nDirection: 5 Stars\\nScreenpl...</td>\n",
       "      <td>9.2</td>\n",
       "      <td>100</td>\n",
       "      <td>Francis Ford Coppola</td>\n",
       "      <td>Marlon Brando,Al Pacino,James Caan,Diane Keaton</td>\n",
       "      <td>Actors: 5 Direction: 5 Screenplay: 5 Oscars: 3...</td>\n",
       "    </tr>\n",
       "    <tr>\n",
       "      <th>1</th>\n",
       "      <td>2.The Shawshank Redemption(1994)</td>\n",
       "      <td>Two imprisoned men bond over a number of years...</td>\n",
       "      <td>[Actors: 4.8 Stars\\nDirection: 5 Stars\\nScreen...</td>\n",
       "      <td>9.3</td>\n",
       "      <td>81</td>\n",
       "      <td>Frank Darabont</td>\n",
       "      <td>Tim Robbins,Morgan Freeman,Bob Gunton,William ...</td>\n",
       "      <td>Actors: 4.8 Direction: 5 Screenplay: 4.9 Oscar...</td>\n",
       "    </tr>\n",
       "    <tr>\n",
       "      <th>2</th>\n",
       "      <td>3.Schindler's List(1993)</td>\n",
       "      <td>In German-occupied Poland during World War II,...</td>\n",
       "      <td>[Actors: 4.9 Stars\\nDirection: 5 Stars\\nScreen...</td>\n",
       "      <td>9</td>\n",
       "      <td>94</td>\n",
       "      <td>Steven Spielberg</td>\n",
       "      <td>Liam Neeson,Ralph Fiennes,Ben Kingsley,Carolin...</td>\n",
       "      <td>Actors: 4.9 Direction: 5 Screenplay: 5 Oscars:...</td>\n",
       "    </tr>\n",
       "    <tr>\n",
       "      <th>3</th>\n",
       "      <td>4.Raging Bull(1980)</td>\n",
       "      <td>The life of boxer Jake LaMotta, whose violence...</td>\n",
       "      <td>[Actors: 5 Stars\\nDirection: 5 Stars\\nScreenpl...</td>\n",
       "      <td>8.2</td>\n",
       "      <td>89</td>\n",
       "      <td>Martin Scorsese</td>\n",
       "      <td>Robert De Niro,Cathy Moriarty,Joe Pesci,Frank ...</td>\n",
       "      <td>Actors: 5 Direction: 5 Screenplay: 5 Oscars: 2...</td>\n",
       "    </tr>\n",
       "    <tr>\n",
       "      <th>4</th>\n",
       "      <td>5.Casablanca(1942)</td>\n",
       "      <td>A cynical expatriate American cafe owner strug...</td>\n",
       "      <td>[Actors: 5 Stars\\nDirection: 5 Stars\\nScreenpl...</td>\n",
       "      <td>8.5</td>\n",
       "      <td>100</td>\n",
       "      <td>Michael Curtiz</td>\n",
       "      <td>Humphrey Bogart,Ingrid Bergman,Paul Henreid,Cl...</td>\n",
       "      <td>Actors: 5 Direction: 5 Screenplay: 5 Oscars: 3...</td>\n",
       "    </tr>\n",
       "  </tbody>\n",
       "</table>\n",
       "</div>"
      ],
      "text/plain": [
       "                              Title  \\\n",
       "0             1.The Godfather(1972)   \n",
       "1  2.The Shawshank Redemption(1994)   \n",
       "2          3.Schindler's List(1993)   \n",
       "3               4.Raging Bull(1980)   \n",
       "4                5.Casablanca(1942)   \n",
       "\n",
       "                                         Information  \\\n",
       "0  The aging patriarch of an organized crime dyna...   \n",
       "1  Two imprisoned men bond over a number of years...   \n",
       "2  In German-occupied Poland during World War II,...   \n",
       "3  The life of boxer Jake LaMotta, whose violence...   \n",
       "4  A cynical expatriate American cafe owner strug...   \n",
       "\n",
       "                                         Description Rating Metascore  \\\n",
       "0  [Actors: 5 Stars\\nDirection: 5 Stars\\nScreenpl...    9.2       100   \n",
       "1  [Actors: 4.8 Stars\\nDirection: 5 Stars\\nScreen...    9.3        81   \n",
       "2  [Actors: 4.9 Stars\\nDirection: 5 Stars\\nScreen...      9        94   \n",
       "3  [Actors: 5 Stars\\nDirection: 5 Stars\\nScreenpl...    8.2        89   \n",
       "4  [Actors: 5 Stars\\nDirection: 5 Stars\\nScreenpl...    8.5       100   \n",
       "\n",
       "               Director                                              Stars  \\\n",
       "0  Francis Ford Coppola    Marlon Brando,Al Pacino,James Caan,Diane Keaton   \n",
       "1        Frank Darabont  Tim Robbins,Morgan Freeman,Bob Gunton,William ...   \n",
       "2      Steven Spielberg  Liam Neeson,Ralph Fiennes,Ben Kingsley,Carolin...   \n",
       "3       Martin Scorsese  Robert De Niro,Cathy Moriarty,Joe Pesci,Frank ...   \n",
       "4        Michael Curtiz  Humphrey Bogart,Ingrid Bergman,Paul Henreid,Cl...   \n",
       "\n",
       "                                     New_description  \n",
       "0  Actors: 5 Direction: 5 Screenplay: 5 Oscars: 3...  \n",
       "1  Actors: 4.8 Direction: 5 Screenplay: 4.9 Oscar...  \n",
       "2  Actors: 4.9 Direction: 5 Screenplay: 5 Oscars:...  \n",
       "3  Actors: 5 Direction: 5 Screenplay: 5 Oscars: 2...  \n",
       "4  Actors: 5 Direction: 5 Screenplay: 5 Oscars: 3...  "
      ]
     },
     "execution_count": 38,
     "metadata": {},
     "output_type": "execute_result"
    }
   ],
   "source": [
    "# convert list column into string\n",
    "df_movies['Stars'] = [','.join(map(str, l)) for l in df_movies['Stars']]\n",
    "df_movies.head()"
   ]
  },
  {
   "cell_type": "code",
   "execution_count": 39,
   "id": "d31bbaa3",
   "metadata": {},
   "outputs": [
    {
     "data": {
      "text/html": [
       "<div>\n",
       "<style scoped>\n",
       "    .dataframe tbody tr th:only-of-type {\n",
       "        vertical-align: middle;\n",
       "    }\n",
       "\n",
       "    .dataframe tbody tr th {\n",
       "        vertical-align: top;\n",
       "    }\n",
       "\n",
       "    .dataframe thead th {\n",
       "        text-align: right;\n",
       "    }\n",
       "</style>\n",
       "<table border=\"1\" class=\"dataframe\">\n",
       "  <thead>\n",
       "    <tr style=\"text-align: right;\">\n",
       "      <th></th>\n",
       "      <th>Title</th>\n",
       "      <th>Information</th>\n",
       "      <th>Rating</th>\n",
       "      <th>Metascore</th>\n",
       "      <th>Director</th>\n",
       "      <th>Stars</th>\n",
       "      <th>New_description</th>\n",
       "    </tr>\n",
       "  </thead>\n",
       "  <tbody>\n",
       "    <tr>\n",
       "      <th>0</th>\n",
       "      <td>1.The Godfather(1972)</td>\n",
       "      <td>The aging patriarch of an organized crime dyna...</td>\n",
       "      <td>9.2</td>\n",
       "      <td>100</td>\n",
       "      <td>Francis Ford Coppola</td>\n",
       "      <td>Marlon Brando,Al Pacino,James Caan,Diane Keaton</td>\n",
       "      <td>Actors: 5 Direction: 5 Screenplay: 5 Oscars: 3...</td>\n",
       "    </tr>\n",
       "    <tr>\n",
       "      <th>1</th>\n",
       "      <td>2.The Shawshank Redemption(1994)</td>\n",
       "      <td>Two imprisoned men bond over a number of years...</td>\n",
       "      <td>9.3</td>\n",
       "      <td>81</td>\n",
       "      <td>Frank Darabont</td>\n",
       "      <td>Tim Robbins,Morgan Freeman,Bob Gunton,William ...</td>\n",
       "      <td>Actors: 4.8 Direction: 5 Screenplay: 4.9 Oscar...</td>\n",
       "    </tr>\n",
       "    <tr>\n",
       "      <th>2</th>\n",
       "      <td>3.Schindler's List(1993)</td>\n",
       "      <td>In German-occupied Poland during World War II,...</td>\n",
       "      <td>9</td>\n",
       "      <td>94</td>\n",
       "      <td>Steven Spielberg</td>\n",
       "      <td>Liam Neeson,Ralph Fiennes,Ben Kingsley,Carolin...</td>\n",
       "      <td>Actors: 4.9 Direction: 5 Screenplay: 5 Oscars:...</td>\n",
       "    </tr>\n",
       "    <tr>\n",
       "      <th>3</th>\n",
       "      <td>4.Raging Bull(1980)</td>\n",
       "      <td>The life of boxer Jake LaMotta, whose violence...</td>\n",
       "      <td>8.2</td>\n",
       "      <td>89</td>\n",
       "      <td>Martin Scorsese</td>\n",
       "      <td>Robert De Niro,Cathy Moriarty,Joe Pesci,Frank ...</td>\n",
       "      <td>Actors: 5 Direction: 5 Screenplay: 5 Oscars: 2...</td>\n",
       "    </tr>\n",
       "    <tr>\n",
       "      <th>4</th>\n",
       "      <td>5.Casablanca(1942)</td>\n",
       "      <td>A cynical expatriate American cafe owner strug...</td>\n",
       "      <td>8.5</td>\n",
       "      <td>100</td>\n",
       "      <td>Michael Curtiz</td>\n",
       "      <td>Humphrey Bogart,Ingrid Bergman,Paul Henreid,Cl...</td>\n",
       "      <td>Actors: 5 Direction: 5 Screenplay: 5 Oscars: 3...</td>\n",
       "    </tr>\n",
       "  </tbody>\n",
       "</table>\n",
       "</div>"
      ],
      "text/plain": [
       "                              Title  \\\n",
       "0             1.The Godfather(1972)   \n",
       "1  2.The Shawshank Redemption(1994)   \n",
       "2          3.Schindler's List(1993)   \n",
       "3               4.Raging Bull(1980)   \n",
       "4                5.Casablanca(1942)   \n",
       "\n",
       "                                         Information Rating Metascore  \\\n",
       "0  The aging patriarch of an organized crime dyna...    9.2       100   \n",
       "1  Two imprisoned men bond over a number of years...    9.3        81   \n",
       "2  In German-occupied Poland during World War II,...      9        94   \n",
       "3  The life of boxer Jake LaMotta, whose violence...    8.2        89   \n",
       "4  A cynical expatriate American cafe owner strug...    8.5       100   \n",
       "\n",
       "               Director                                              Stars  \\\n",
       "0  Francis Ford Coppola    Marlon Brando,Al Pacino,James Caan,Diane Keaton   \n",
       "1        Frank Darabont  Tim Robbins,Morgan Freeman,Bob Gunton,William ...   \n",
       "2      Steven Spielberg  Liam Neeson,Ralph Fiennes,Ben Kingsley,Carolin...   \n",
       "3       Martin Scorsese  Robert De Niro,Cathy Moriarty,Joe Pesci,Frank ...   \n",
       "4        Michael Curtiz  Humphrey Bogart,Ingrid Bergman,Paul Henreid,Cl...   \n",
       "\n",
       "                                     New_description  \n",
       "0  Actors: 5 Direction: 5 Screenplay: 5 Oscars: 3...  \n",
       "1  Actors: 4.8 Direction: 5 Screenplay: 4.9 Oscar...  \n",
       "2  Actors: 4.9 Direction: 5 Screenplay: 5 Oscars:...  \n",
       "3  Actors: 5 Direction: 5 Screenplay: 5 Oscars: 2...  \n",
       "4  Actors: 5 Direction: 5 Screenplay: 5 Oscars: 3...  "
      ]
     },
     "execution_count": 39,
     "metadata": {},
     "output_type": "execute_result"
    }
   ],
   "source": [
    "df_movies.drop(columns=['Description'], inplace=True)\n",
    "df_movies.head()"
   ]
  },
  {
   "cell_type": "code",
   "execution_count": 40,
   "id": "a22d3a8c",
   "metadata": {},
   "outputs": [
    {
     "data": {
      "text/html": [
       "<div>\n",
       "<style scoped>\n",
       "    .dataframe tbody tr th:only-of-type {\n",
       "        vertical-align: middle;\n",
       "    }\n",
       "\n",
       "    .dataframe tbody tr th {\n",
       "        vertical-align: top;\n",
       "    }\n",
       "\n",
       "    .dataframe thead th {\n",
       "        text-align: right;\n",
       "    }\n",
       "</style>\n",
       "<table border=\"1\" class=\"dataframe\">\n",
       "  <thead>\n",
       "    <tr style=\"text-align: right;\">\n",
       "      <th></th>\n",
       "      <th>Title</th>\n",
       "      <th>Information</th>\n",
       "      <th>Rating</th>\n",
       "      <th>Metascore</th>\n",
       "      <th>Director</th>\n",
       "      <th>Stars</th>\n",
       "      <th>Description</th>\n",
       "    </tr>\n",
       "  </thead>\n",
       "  <tbody>\n",
       "    <tr>\n",
       "      <th>0</th>\n",
       "      <td>1.The Godfather(1972)</td>\n",
       "      <td>The aging patriarch of an organized crime dyna...</td>\n",
       "      <td>9.2</td>\n",
       "      <td>100</td>\n",
       "      <td>Francis Ford Coppola</td>\n",
       "      <td>Marlon Brando,Al Pacino,James Caan,Diane Keaton</td>\n",
       "      <td>Actors: 5 Direction: 5 Screenplay: 5 Oscars: 3...</td>\n",
       "    </tr>\n",
       "    <tr>\n",
       "      <th>1</th>\n",
       "      <td>2.The Shawshank Redemption(1994)</td>\n",
       "      <td>Two imprisoned men bond over a number of years...</td>\n",
       "      <td>9.3</td>\n",
       "      <td>81</td>\n",
       "      <td>Frank Darabont</td>\n",
       "      <td>Tim Robbins,Morgan Freeman,Bob Gunton,William ...</td>\n",
       "      <td>Actors: 4.8 Direction: 5 Screenplay: 4.9 Oscar...</td>\n",
       "    </tr>\n",
       "    <tr>\n",
       "      <th>2</th>\n",
       "      <td>3.Schindler's List(1993)</td>\n",
       "      <td>In German-occupied Poland during World War II,...</td>\n",
       "      <td>9</td>\n",
       "      <td>94</td>\n",
       "      <td>Steven Spielberg</td>\n",
       "      <td>Liam Neeson,Ralph Fiennes,Ben Kingsley,Carolin...</td>\n",
       "      <td>Actors: 4.9 Direction: 5 Screenplay: 5 Oscars:...</td>\n",
       "    </tr>\n",
       "    <tr>\n",
       "      <th>3</th>\n",
       "      <td>4.Raging Bull(1980)</td>\n",
       "      <td>The life of boxer Jake LaMotta, whose violence...</td>\n",
       "      <td>8.2</td>\n",
       "      <td>89</td>\n",
       "      <td>Martin Scorsese</td>\n",
       "      <td>Robert De Niro,Cathy Moriarty,Joe Pesci,Frank ...</td>\n",
       "      <td>Actors: 5 Direction: 5 Screenplay: 5 Oscars: 2...</td>\n",
       "    </tr>\n",
       "    <tr>\n",
       "      <th>4</th>\n",
       "      <td>5.Casablanca(1942)</td>\n",
       "      <td>A cynical expatriate American cafe owner strug...</td>\n",
       "      <td>8.5</td>\n",
       "      <td>100</td>\n",
       "      <td>Michael Curtiz</td>\n",
       "      <td>Humphrey Bogart,Ingrid Bergman,Paul Henreid,Cl...</td>\n",
       "      <td>Actors: 5 Direction: 5 Screenplay: 5 Oscars: 3...</td>\n",
       "    </tr>\n",
       "  </tbody>\n",
       "</table>\n",
       "</div>"
      ],
      "text/plain": [
       "                              Title  \\\n",
       "0             1.The Godfather(1972)   \n",
       "1  2.The Shawshank Redemption(1994)   \n",
       "2          3.Schindler's List(1993)   \n",
       "3               4.Raging Bull(1980)   \n",
       "4                5.Casablanca(1942)   \n",
       "\n",
       "                                         Information Rating Metascore  \\\n",
       "0  The aging patriarch of an organized crime dyna...    9.2       100   \n",
       "1  Two imprisoned men bond over a number of years...    9.3        81   \n",
       "2  In German-occupied Poland during World War II,...      9        94   \n",
       "3  The life of boxer Jake LaMotta, whose violence...    8.2        89   \n",
       "4  A cynical expatriate American cafe owner strug...    8.5       100   \n",
       "\n",
       "               Director                                              Stars  \\\n",
       "0  Francis Ford Coppola    Marlon Brando,Al Pacino,James Caan,Diane Keaton   \n",
       "1        Frank Darabont  Tim Robbins,Morgan Freeman,Bob Gunton,William ...   \n",
       "2      Steven Spielberg  Liam Neeson,Ralph Fiennes,Ben Kingsley,Carolin...   \n",
       "3       Martin Scorsese  Robert De Niro,Cathy Moriarty,Joe Pesci,Frank ...   \n",
       "4        Michael Curtiz  Humphrey Bogart,Ingrid Bergman,Paul Henreid,Cl...   \n",
       "\n",
       "                                         Description  \n",
       "0  Actors: 5 Direction: 5 Screenplay: 5 Oscars: 3...  \n",
       "1  Actors: 4.8 Direction: 5 Screenplay: 4.9 Oscar...  \n",
       "2  Actors: 4.9 Direction: 5 Screenplay: 5 Oscars:...  \n",
       "3  Actors: 5 Direction: 5 Screenplay: 5 Oscars: 2...  \n",
       "4  Actors: 5 Direction: 5 Screenplay: 5 Oscars: 3...  "
      ]
     },
     "execution_count": 40,
     "metadata": {},
     "output_type": "execute_result"
    }
   ],
   "source": [
    "# rename column\n",
    "df_movies = df_movies.rename(columns = {'New_description' : 'Description'})\n",
    "df_movies.head()"
   ]
  },
  {
   "cell_type": "code",
   "execution_count": 44,
   "id": "ba863b27",
   "metadata": {},
   "outputs": [],
   "source": [
    "# convert string columns into numeric\n",
    "df_movies['Rating'] = pd.to_numeric(df_movies['Rating'], errors = 'coerce')\n",
    "df_movies['Metascore'] = pd.to_numeric(df_movies['Metascore'], errors = 'coerce')"
   ]
  },
  {
   "cell_type": "code",
   "execution_count": 45,
   "id": "fbda73ad",
   "metadata": {},
   "outputs": [],
   "source": [
    "df_movies.drop_duplicates(keep='first', inplace=True, ignore_index=False)"
   ]
  },
  {
   "cell_type": "code",
   "execution_count": 46,
   "id": "603e6454",
   "metadata": {},
   "outputs": [
    {
     "name": "stdout",
     "output_type": "stream",
     "text": [
      "<class 'pandas.core.frame.DataFrame'>\n",
      "Int64Index: 100 entries, 0 to 99\n",
      "Data columns (total 7 columns):\n",
      " #   Column       Non-Null Count  Dtype  \n",
      "---  ------       --------------  -----  \n",
      " 0   Title        100 non-null    object \n",
      " 1   Information  100 non-null    object \n",
      " 2   Rating       100 non-null    float64\n",
      " 3   Metascore    97 non-null     float64\n",
      " 4   Director     100 non-null    object \n",
      " 5   Stars        100 non-null    object \n",
      " 6   Description  100 non-null    object \n",
      "dtypes: float64(2), object(5)\n",
      "memory usage: 6.2+ KB\n"
     ]
    }
   ],
   "source": [
    "df_movies.info()"
   ]
  },
  {
   "cell_type": "code",
   "execution_count": 47,
   "id": "5bee8cfb",
   "metadata": {},
   "outputs": [],
   "source": [
    "df_movies.to_excel('top_100_movies_all_time.xlsx', index = False)"
   ]
  }
 ],
 "metadata": {
  "kernelspec": {
   "display_name": "Python 3 (ipykernel)",
   "language": "python",
   "name": "python3"
  },
  "language_info": {
   "codemirror_mode": {
    "name": "ipython",
    "version": 3
   },
   "file_extension": ".py",
   "mimetype": "text/x-python",
   "name": "python",
   "nbconvert_exporter": "python",
   "pygments_lexer": "ipython3",
   "version": "3.9.7"
  }
 },
 "nbformat": 4,
 "nbformat_minor": 5
}
